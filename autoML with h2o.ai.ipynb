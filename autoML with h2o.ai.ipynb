{
 "cells": [
  {
   "cell_type": "markdown",
   "metadata": {},
   "source": [
    "# Automated Machine Learning with Interactive User Inputs\n",
    "\n",
    "**Purpose:** This notebook is designed to interactively guide the user through an end-to-end process for deploying an automated machine learning workflow utilizing h2o.ai's autoML function.  The user is simply required to select a dataset and choose a variable they would like to predict before running the automation.  The user can choose to run the automation with default parameters or override those parameters following the input prompts embedded in this notebook.  This workflow is designed for all modelers - new and experienced - who are looking to leverage automated machine learning methods in their work.\n",
    "\n",
    "**Data Mining Problems Covered:**\n",
    "- Utilize this notebook to solve any \"Supervised Learning\" problem with a Categorical or Continuous Target Variable\n",
    "\n",
    "**Edit Date:** 6/4/2019\n",
    "    \n",
    "</br></br>\n",
    "- **Resources**:\n",
    "    * http://docs.h2o.ai/h2o/latest-stable/h2o-docs/automl.html\n",
    "    * https://ipywidgets.readthedocs.io/en/stable/examples/Widget%20List.html\n",
    "    * https://towardsdatascience.com/a-very-simple-demo-of-interactive-controls-on-jupyter-notebook-4429cf46aabd\n",
    "    \n",
    "</br></br>\n",
    "- **Example Datasets**\n",
    "    - **[Sample csv] = artificial_attrition_data.csv:** This is an artificial dataset containing employment records for a fictional company.\n",
    "    - **[Sample xlsx] = Artificial Employment Data.xlsx:** This is an artificial dataset containing employment records for a fictional company. The file has (3) separate tabs to choose from when uploading into the workflow.\n",
    "    - **[Sample GET REQUEST]** - https://gist.github.com/bradblanch/53857ddb24ad83287b900aa8968ff416: This is an artificial dataset containing employment records for a fictional company. The file is available through my gist account and can be imported directly from the web via the url import function contained in this workflow.  Any valid url containing data in .csv format can be uploaded directly within this tool.\n",
    "    \n",
    "## Table of Contents\n",
    "\n",
    "**1.0** **- Ingest Data**\n",
    "    * 1.1 - Set Your Working Directory\n",
    "    * 1.2 - Upload Your Data (for Modeling)\n",
    "    * 1.3 - Select a Data Frame (for Modeling)\n",
    "     \n",
    "**2.0** **- Train Models**\n",
    "    * 2.1 - Select Your Target Variable\n",
    "    * 2.2 - Initiate H2O\n",
    "    * 2.3 - Configure Models\n",
    "    * 2.4 - Automatically Train Models\n",
    "    * 2.5 - Evaluate Models & Select Top Performer\n",
    "   \n",
    "**3.0** **- Make Predictions & Export Results**\n",
    "    * 3.1 - Upload your Data (for Scoring) \n",
    "    * 3.2 - Select a Data Frame (for Scoring)  \n",
    "    * 3.3 - Predict the Target Value\n",
    "    * 3.4 - Export Dataframes for Offline Analysis\n",
    "\n",
    "## Dependencies\n",
    "\n",
    "This script was executed using the following version of Python:\n",
    "* **Python 3.6.2 :: Anaconda, Inc.**\n",
    "\n",
    "Use this link to install Python on your machine:\n",
    "* https://www.anaconda.com/distribution/#download-section\n",
    "\n",
    "**About Python Versions:**\n",
    "If you are running a higher-version of Python and this notebook fails to execute properly, you can downgrade your version in the terminal by running the following commands:\n",
    "* conda search python [to see which versions are available on your machine]\n",
    "* conda install python=3.6.2 [which will switch the active version to 3.6.2; if available in the list above]\n",
    "\n",
    "**About Python Packages:**\n",
    "All packages used in this notebook can be installed on your machine using the \"pip install [package_name]\" command on your terminal.  Be sure you've installed each of the packages below before attempting to execute the notebook.\n",
    "\n",
    "Current package requirements include:\n",
    "* os - https://docs.python.org/3/library/os.html\n",
    "* Pandas - https://pandas.pydata.org/\n",
    "* Datetime - https://docs.python.org/3/library/datetime.html\n",
    "* re - https://docs.python.org/3/library/re.html\n",
    "* Numpy - http://www.numpy.org/\n",
    "* ipywidgets - https://ipywidgets.readthedocs.io/en/stable/user_install.html\n",
    "* ipython - https://ipython.org/ipython-doc/rel-0.10.2/html/interactive/extension_api.html\n",
    "* h2o - http://docs.h2o.ai/h2o/latest-stable/h2o-docs/downloading.html#install-in-python\n",
    "* scikit-learn - https://scikit-learn.org/stable/install.html\n",
    "* requests - https://2.python-requests.org/en/master/user/install/\n",
    "* io - https://docs.python.org/3/library/io.html\n",
    "* warnings - https://docs.python.org/3/library/warnings.html\n",
    "\n",
    "The current template uses the following versions:\n",
    "* os== module 'os' from '/anaconda3/lib/python3.6/os.py'\n",
    "* pandas==0.24.1\n",
    "* datetime== module 'datetime' from '/anaconda3/lib/python3.6/datetime.py'\n",
    "* re== module 're' from '/anaconda3/lib/python3.6/re.py'\n",
    "* numpy==1.16.1\n",
    "* ipywidgets==7.4.2\n",
    "* ipython==6.2.1\n",
    "* h2o==3.24.0.4\n",
    "* scikit-learn==0.19.1\n",
    "* requests==2.18.4\n",
    "* io== module 'io' from '/anaconda3/lib/python3.6/io.py'\n",
    "* warnings== module 'warnings' from '/anaconda3/lib/python3.6/warnings.py'"
   ]
  },
  {
   "cell_type": "markdown",
   "metadata": {},
   "source": [
    "## Before you begin, ensure you've installed the required Python packages\n",
    "\n",
    "* See the list above and make note of the specific versions that were used in this notebook"
   ]
  },
  {
   "cell_type": "code",
   "execution_count": 105,
   "metadata": {},
   "outputs": [],
   "source": [
    "############################################\n",
    "###### Import required Python packages #####\n",
    "############################################\n",
    "\n",
    "import os\n",
    "import pandas as pd\n",
    "import re\n",
    "import datetime as dt\n",
    "import numpy as np\n",
    "from ipywidgets import interact, interactive, IntSlider, Layout\n",
    "import ipywidgets as widgets\n",
    "from IPython.display import display\n",
    "import h2o\n",
    "from h2o.automl import H2OAutoML\n",
    "from sklearn.model_selection import train_test_split\n",
    "import io\n",
    "import requests\n",
    "import warnings\n",
    "warnings.filterwarnings('ignore')"
   ]
  },
  {
   "cell_type": "markdown",
   "metadata": {},
   "source": [
    "## Note: Code Cells are Hidden by Default for Ease-of-Use\n",
    "\n",
    "This notebook incorporates interactive \"widgets\" which will result in large blocks of cells being utilized to enable specific user-interactions.  Executing this cell will hide all \"Code\" cells while making all outputs visible to the user.  Refer to the link below for the source or simply \"run\" the block below to see the impact on the rest of the notebook.\n",
    "\n",
    "* https://stackoverflow.com/questions/27934885/how-to-hide-code-from-cells-in-ipython-notebook-visualized-with-nbviewer\n",
    "\n",
    "#### Disclaimer:\n",
    "* As the \"output text\" notes, simply click the \"here\" hyperlink in the text to toggle on/off this feature"
   ]
  },
  {
   "cell_type": "code",
   "execution_count": 106,
   "metadata": {},
   "outputs": [
    {
     "data": {
      "text/html": [
       "<script>\n",
       "code_show=true; \n",
       "function code_toggle() {\n",
       " if (code_show){\n",
       " $('div.input').hide();\n",
       " } else {\n",
       " $('div.input').show();\n",
       " }\n",
       " code_show = !code_show\n",
       "} \n",
       "$( document ).ready(code_toggle);\n",
       "</script>\n",
       "The raw code for this IPython notebook is by default hidden for easier reading.\n",
       "To toggle on/off the raw code, click <a href=\"javascript:code_toggle()\">here</a>."
      ],
      "text/plain": [
       "<IPython.core.display.HTML object>"
      ]
     },
     "execution_count": 106,
     "metadata": {},
     "output_type": "execute_result"
    }
   ],
   "source": [
    "from IPython.display import HTML\n",
    "\n",
    "HTML('''<script>\n",
    "code_show=true; \n",
    "function code_toggle() {\n",
    " if (code_show){\n",
    " $('div.input').hide();\n",
    " } else {\n",
    " $('div.input').show();\n",
    " }\n",
    " code_show = !code_show\n",
    "} \n",
    "$( document ).ready(code_toggle);\n",
    "</script>\n",
    "The raw code for this IPython notebook is by default hidden for easier reading.\n",
    "To toggle on/off the raw code, click <a href=\"javascript:code_toggle()\">here</a>.''')"
   ]
  },
  {
   "cell_type": "markdown",
   "metadata": {},
   "source": [
    "## 1.0 - Data Ingestion\n",
    "\n",
    "The series of code blocks below will walk you through the process of mapping to your working directory and uploading your dataset."
   ]
  },
  {
   "cell_type": "markdown",
   "metadata": {},
   "source": [
    "## 1.1 - Set Your Working Directory\n",
    "\n",
    "Your \"working directory\" is a folder location on your computer that will store files either read-in or written-out by this script.  This code by default will return your current, active directory.  You can change this directory by typing in a specific path into the text box provided."
   ]
  },
  {
   "cell_type": "markdown",
   "metadata": {},
   "source": [
    "## AN IMPORTANT NOTE ABOUT INTERACTIVE WIDGETS\n",
    "\n",
    "This notebook uses interactive widgets to help you make selections and inputs more conveniently.  As you work through this notebook, be sure to follow the steps below to ensure your selections are incorporated in the cells that follow:\n",
    "\n",
    "#### 1. Run the cell containing the interactive widget(s) to bring them into view\n",
    "#### 2. Apply your selections and/or inputs to the widgets that appear\n",
    "#### 3. DO NOT rerun the cell as it will erase your selections and inputs\n",
    "#### 4. To proceed, simply click on the next cell in the notebook, and Run it\n",
    "\n",
    "<br/>"
   ]
  },
  {
   "cell_type": "code",
   "execution_count": 107,
   "metadata": {},
   "outputs": [
    {
     "data": {
      "application/vnd.jupyter.widget-view+json": {
       "model_id": "df1d71668bd54cf3869330e824ce8d24",
       "version_major": 2,
       "version_minor": 0
      },
      "text/plain": [
       "Text(value='/Users/bblanchard006/Desktop/digital_lab/autoML', description='Directory:', layout=Layout(width='5…"
      ]
     },
     "metadata": {},
     "output_type": "display_data"
    }
   ],
   "source": [
    "set_working_directory = widgets.Text(\n",
    "    value=os.getcwd(),\n",
    "    placeholder='/Users/bblanchard006/Desktop/digital_lab/autoML',\n",
    "    description='Directory:',\n",
    "    disabled=False,\n",
    "    layout=Layout(width='50%')\n",
    ")\n",
    "\n",
    "display(set_working_directory)"
   ]
  },
  {
   "cell_type": "markdown",
   "metadata": {},
   "source": [
    "## Reminder: Do not rerun the cell above after applying your inputs\n",
    "\n",
    "### Click on and Run this cell to proceed\n",
    "\n",
    "After executing the cell above, you can leave the default directory or overwrite the text string that appears with your desired folder directory. **DO NOT execute the cell again after making your update.** The input above will be fed into the following code cell, where it will either successfully map to the new directory or notify you of an error."
   ]
  },
  {
   "cell_type": "code",
   "execution_count": 109,
   "metadata": {},
   "outputs": [
    {
     "name": "stdout",
     "output_type": "stream",
     "text": [
      "Changed directory to /Users/bblanchard006/Desktop/digital_lab/autoML\n"
     ]
    }
   ],
   "source": [
    "try:\n",
    "    os.chdir(set_working_directory.value)\n",
    "    print('Changed directory to {}'.format(set_working_directory.value))\n",
    "except Exception as e:\n",
    "    print('Failed to change directory')\n",
    "    print(e)"
   ]
  },
  {
   "cell_type": "markdown",
   "metadata": {},
   "source": [
    "## 1.2 - Upload Your Data (Excel and CSV files)\n",
    "\n",
    "The function in the code cell below will find, ingest, and format both xlsx and csv files.  This is the dataset with \"known\" values which will be used to train your models."
   ]
  },
  {
   "cell_type": "code",
   "execution_count": 110,
   "metadata": {},
   "outputs": [],
   "source": [
    "########################################\n",
    "##### Data Ingestion Functions\n",
    "########################################\n",
    "\n",
    "def compile_raw_data(filename, tab_names, subfolder, delimiter_char = ',', skip_rows = 0, file_ext = 'xlsx'):\n",
    "    \n",
    "    # Inputs: \n",
    "    ## filename = 'sample.csv' | 'sample.xlsx' - the filename in the directory (including the extension) \n",
    "    ## tab_names = None | ['Sheet1,'Sheet2'] - None for csv; [comma separated list of tab names] for xlsx\n",
    "    ## subfolder = 'source_data' - string containing the name of a folder in the working directory\n",
    "    ## delimiter_char = ',' | ';' - None for xlsx\n",
    "    ## rows to skip = default 0 - Not used for csv; trims the user-defined number of rows from an xlsx\n",
    "    ## file extension = csv | xlsx\n",
    "    \n",
    "    # Description: reads in the workbook; standardizes header names; \n",
    "    # Outputs: returns a dictionary of dataframes\n",
    "\n",
    "    master_data = {}\n",
    "    if subfolder:\n",
    "        file_path = subfolder+'/{}'.format(filename)\n",
    "    else:\n",
    "        file_path = filename\n",
    "\n",
    "    if file_ext == 'csv':\n",
    "        tab_names = [re.sub('.csv','', filename)]\n",
    "\n",
    "    for tab in tab_names:\n",
    "        try:\n",
    "            if file_ext == 'xlsx':\n",
    "                dframe = pd.read_excel(file_path, tab, skip_rows)\n",
    "            elif file_ext == 'csv' and delimiter_char == ',':\n",
    "                dframe = pd.read_csv(file_path, header=0, delimiter=',')\n",
    "            else:\n",
    "                dframe = pd.read_csv(file_path, header=0, delimiter=';')\n",
    "                \n",
    "            sanitizer = {\n",
    "                        '$':'USD',\n",
    "                        '(':' ',\n",
    "                        ')':' ',\n",
    "                        '/':' ',\n",
    "                        '-':' ',\n",
    "                        ',':' ',\n",
    "                        '.':' '\n",
    "            }\n",
    "                        \n",
    "            for key, value in sanitizer.items():\n",
    "                dframe.rename(columns=lambda x: x.replace(key, value), inplace=True)\n",
    "                \n",
    "            dframe.rename(columns=lambda x: x.strip(), inplace=True)\n",
    "            dframe.rename(columns=lambda x: re.sub(' +','_', x), inplace=True)\n",
    "            \n",
    "            dframe.columns = map(str.lower, dframe.columns)\n",
    "            \n",
    "            master_data.update({tab:dframe})\n",
    "        except Exception as e:\n",
    "            master_data.update({tab:'Failed'})\n",
    "    \n",
    "    return master_data"
   ]
  },
  {
   "cell_type": "markdown",
   "metadata": {},
   "source": [
    "The code blocks below enable conditional filtering to support multiple file types. Further instructions are provided below:\n",
    "\n",
    "**Uploading csv files**\n",
    "\n",
    "To upload a csv file, complete these steps:\n",
    "1. Type in your filename along with the extension (ex. sample.csv)\n",
    "2. Check the 'csv' radio-button\n",
    "3. Is your file in the main directory or a sub-folder in the directory:\n",
    "    * Select the \"no\" radio-button if your file is in your main directory\n",
    "    * Select the \"yes\" radio-button to expose a text-box where you can type-in the name of your sub-folder\n",
    "    \n",
    "**Uploading xlsx files**\n",
    "\n",
    "To upload an xlsx file, complete these steps:\n",
    "1. Type in your filename along with the extension (ex. sample.xlsx)\n",
    "2. Check the 'xlsx' radio-button\n",
    "3. Type in the tab-names you'd like to ingest (comma-separated; Sheet1,Sheet2,Sheet3)\n",
    "4. If the data in your file has leading rows, select how many rows to skip before ingesting the data (ex. if your data starts on Row 2 in the Excel-file, set the Skip Rows value to 1)\n",
    "5. Is your file in the main directory or a sub-folder in the directory:\n",
    "    * Select the \"no\" radio-button if your file is in your main directory\n",
    "    * Select the \"yes\" radio-button to expose a text-box where you can type-in the name of your sub-folder"
   ]
  },
  {
   "cell_type": "code",
   "execution_count": 111,
   "metadata": {},
   "outputs": [
    {
     "data": {
      "application/vnd.jupyter.widget-view+json": {
       "model_id": "535347e977fe4a428ebd7281ef310457",
       "version_major": 2,
       "version_minor": 0
      },
      "text/plain": [
       "interactive(children=(RadioButtons(description='File Location:', options=('local', 'url'), value='local'), Out…"
      ]
     },
     "metadata": {},
     "output_type": "display_data"
    }
   ],
   "source": [
    "upload_type = widgets.RadioButtons(\n",
    "    options=['local', 'url'],\n",
    "    description='File Location:',\n",
    "    disabled=False\n",
    ")\n",
    "\n",
    "upload_url = widgets.Text(\n",
    "#    value='https://gist.githubusercontent.com/bradblanch/53857ddb24ad83287b900aa8968ff416/raw/790b0a27392f69a5efcf2c1ac7d0bdad5e38428e/artificial_attrition_data.csv',\n",
    "    value='https://web.stanford.edu/class/archive/cs/cs109/cs109.1166/stuff/titanic.csv',\n",
    "    placeholder='http://',\n",
    "    description='URL:',\n",
    "    disabled=False,\n",
    "    layout=Layout(width='80%')\n",
    ")\n",
    "upload_filename = widgets.Text(\n",
    "    value='artificial_attrition_data.csv',\n",
    "#     value='Artificial Employment Data.xlsx'\n",
    "    placeholder='Sample File.csv',\n",
    "    description='File Name:',\n",
    "    disabled=False,\n",
    "    layout=Layout(width='50%')\n",
    ")\n",
    "\n",
    "file_type = widgets.RadioButtons(\n",
    "    options=['csv', 'xlsx'],\n",
    "    description='File Type:',\n",
    "    disabled=False\n",
    ")\n",
    "\n",
    "tab_names = widgets.Text(\n",
    "    value='Sheet1, Sheet2, Sheet3, etc',\n",
    "    placeholder='ALL EMPLOYEES, PAST EMPLOYEES',\n",
    "    description='Tab(s):',\n",
    "    disabled=False,\n",
    "    layout=Layout(width='50%')\n",
    ")\n",
    "\n",
    "subfolder_name = widgets.Text(\n",
    "    value='source_data',\n",
    "    placeholder='Subfolder name',\n",
    "    description='Subfolder:',\n",
    "    disabled=False,\n",
    "    layout=Layout(width='50%')\n",
    ")\n",
    "\n",
    "subfolder = widgets.RadioButtons(\n",
    "    options=['no','yes'],\n",
    "    value='no',\n",
    "    description='Subfolder:',\n",
    "    disabled=False\n",
    ")\n",
    "\n",
    "skip_rows = widgets.IntSlider(\n",
    "    value=0,\n",
    "    min=0,\n",
    "    max=10,\n",
    "    step=1,\n",
    "    description='Skip Rows:',\n",
    "    disabled=False,\n",
    "    continuous_update=True,\n",
    "    orientation='horizontal',\n",
    "    readout=True,\n",
    "    readout_format='d'\n",
    ")\n",
    "\n",
    "delimiter = widgets.RadioButtons(\n",
    "    options=[',',';'],\n",
    "    value=',',\n",
    "    description='Delimiter:',\n",
    "    disabled=False\n",
    ")\n",
    "\n",
    "def text_field(x):\n",
    "    if(x=='xlsx'):\n",
    "        display(tab_names)\n",
    "        tab_names.on_submit(tab_names)\n",
    "        display(skip_rows)\n",
    "    else:\n",
    "        display(delimiter)\n",
    "        print('Tab Names: Not needed for csv files')\n",
    "\n",
    "def sub_folder(y):\n",
    "    if(y=='yes'):\n",
    "        display(subfolder_name)\n",
    "        subfolder_name.on_submit(subfolder_name)\n",
    "    else:\n",
    "        print('Using {} folder'.format(os.getcwd()))\n",
    "\n",
    "def file_location(z):\n",
    "    if(z=='local'):\n",
    "        display(upload_filename)\n",
    "        i = widgets.interactive(text_field, x=file_type)\n",
    "        display(i)\n",
    "        p = widgets.interactive(sub_folder, y=subfolder)\n",
    "        display(p)\n",
    "    else:\n",
    "        display(upload_url)\n",
    "    \n",
    "q = widgets.interactive(file_location, z=upload_type)\n",
    "\n",
    "display(q)"
   ]
  },
  {
   "cell_type": "markdown",
   "metadata": {},
   "source": [
    "## Reminder: Do not rerun the cell above after applying your inputs\n",
    "\n",
    "### Click on and Run this cell to proceed"
   ]
  },
  {
   "cell_type": "markdown",
   "metadata": {},
   "source": [
    "The following code cell will attempt to ingest the data you've selected in the widgets above:\n",
    "\n",
    "**Note About xlsx Files** - Depending on the number of tabs and the size of the data on each tab, ingesting an xlsx file can take several minutes to execute.  If possible, it may be more efficient to break your Excel file into separate csv files which take only a fraction of a second to ingest."
   ]
  },
  {
   "cell_type": "code",
   "execution_count": 112,
   "metadata": {},
   "outputs": [],
   "source": [
    "master_data = {}\n",
    "\n",
    "if upload_type.value == 'url':\n",
    "    url_response = requests.request(\"GET\", upload_url.value)\n",
    "    master_data['url_data'] = pd.read_csv(io.BytesIO(url_response.content))\n",
    "else:\n",
    "    if file_type.value == 'csv':\n",
    "        tabs = None\n",
    "        skiprows = 0\n",
    "    else:\n",
    "        tabs = [x.strip() for x in tab_names.value.split(',')]\n",
    "        skiprows = skip_rows.value\n",
    "\n",
    "    if subfolder.value == 'yes':\n",
    "        subfolder = subfolder_name.value\n",
    "    else:\n",
    "        subfolder = None\n",
    "    master_data = compile_raw_data(upload_filename.value, tabs, subfolder, delimiter_char = delimiter.value, skip_rows = skiprows, file_ext = file_type.value)\n"
   ]
  },
  {
   "cell_type": "markdown",
   "metadata": {},
   "source": [
    "**Note:** If you see an AttributeError: 'NoneType' object has no attribute 'value' message above, simply rerun the last two code cells to reset the input parameters.\n",
    "\n",
    "The following code cell will print out the attributes associated with the files you've uploaded and alert you of any errors:"
   ]
  },
  {
   "cell_type": "code",
   "execution_count": 113,
   "metadata": {},
   "outputs": [
    {
     "name": "stdout",
     "output_type": "stream",
     "text": [
      "artificial_attrition_data table was ingested with 1821 rows and 19 columns\n"
     ]
    }
   ],
   "source": [
    "for key, value in master_data.items():\n",
    "    try:\n",
    "        print('{} table was ingested with {} rows and {} columns'.format(key,value.shape[0],value.shape[1]))\n",
    "    except:\n",
    "        print('{} table failed to load'.format(key))"
   ]
  },
  {
   "cell_type": "markdown",
   "metadata": {},
   "source": [
    "## 1.3 - Select a Data Frame\n",
    "\n",
    "The following menus will allow you to select the dataset you would like to use in your modeling and the variables you would like included in the subsequent processes.  You can preview a sample of the data as well as increase or decrease the number of records returned by using the integer input widget (which has a default range; minimum rows = 1, maximum rows = 50).\n",
    "\n",
    "Select an available frame from the list below:"
   ]
  },
  {
   "cell_type": "code",
   "execution_count": 114,
   "metadata": {},
   "outputs": [
    {
     "data": {
      "application/vnd.jupyter.widget-view+json": {
       "model_id": "b3c73d11980e462fa138698aa03d8cc2",
       "version_major": 2,
       "version_minor": 0
      },
      "text/plain": [
       "Select(description='Tables:', layout=Layout(width='50%'), options=('artificial_attrition_data',), value='artif…"
      ]
     },
     "metadata": {},
     "output_type": "display_data"
    }
   ],
   "source": [
    "dict_keys = widgets.Select(\n",
    "    options=master_data.keys(),\n",
    "    description='Tables:',\n",
    "    disabled=False,\n",
    "    layout=Layout(width='50%')\n",
    ")\n",
    "\n",
    "display(dict_keys)"
   ]
  },
  {
   "cell_type": "markdown",
   "metadata": {},
   "source": [
    "## Reminder: Do not rerun the cell above after applying your inputs\n",
    "\n",
    "### Click on and Run this cell to proceed\n",
    "\n",
    "After selecting a frame above, select the variables you would like included in your workflow from the list below:\n",
    "\n",
    "**NOTE:** To select multiple values from the picklist, either hold down the command key on your keyboard or click and hold the shift key to select ranges of variables.  You can scroll down if your mouse is within the widget window."
   ]
  },
  {
   "cell_type": "code",
   "execution_count": 116,
   "metadata": {},
   "outputs": [
    {
     "data": {
      "application/vnd.jupyter.widget-view+json": {
       "model_id": "455669de0b6f46bb92f5538936e830bf",
       "version_major": 2,
       "version_minor": 0
      },
      "text/plain": [
       "SelectMultiple(description='Variables:', options=('attrition', 'gender', 'birthday', 'age', 'staff_category', …"
      ]
     },
     "metadata": {},
     "output_type": "display_data"
    }
   ],
   "source": [
    "review_variables = widgets.SelectMultiple(\n",
    "    options=master_data[dict_keys.value].columns.tolist(),\n",
    "    description='Variables:',\n",
    "    disabled=False\n",
    ")\n",
    "\n",
    "display(review_variables)"
   ]
  },
  {
   "cell_type": "markdown",
   "metadata": {},
   "source": [
    "## Reminder: Do not rerun the cell above after applying your inputs\n",
    "\n",
    "### Click on and Run this cell to proceed\n",
    "Input the number of rows you'd like to sample:"
   ]
  },
  {
   "cell_type": "code",
   "execution_count": 117,
   "metadata": {},
   "outputs": [
    {
     "data": {
      "application/vnd.jupyter.widget-view+json": {
       "model_id": "ac097002854c4b3881695722fa322592",
       "version_major": 2,
       "version_minor": 0
      },
      "text/plain": [
       "VBox(children=(VBox(children=(BoundedIntText(value=5, description='Rows:', max=50, min=1),)), Output()))"
      ]
     },
     "metadata": {},
     "output_type": "display_data"
    }
   ],
   "source": [
    "review_var_list = []\n",
    "for i in review_variables.value:\n",
    "    review_var_list.append(i)\n",
    "    \n",
    "master_data['custom_table'] = master_data[dict_keys.value][review_var_list]\n",
    "\n",
    "head_number = widgets.BoundedIntText(\n",
    "    value=5,\n",
    "    min=1,\n",
    "    max=50,\n",
    "    step=1,\n",
    "    description='Rows:',\n",
    "    disabled=False\n",
    ")\n",
    "\n",
    "def sample_view(head_number):\n",
    "    sample = master_data['custom_table'].head(head_number)\n",
    "    print(sample)\n",
    "\n",
    "out = widgets.interactive_output(sample_view, {'head_number':head_number})\n",
    "\n",
    "widgets.VBox([widgets.VBox([head_number]), out])"
   ]
  },
  {
   "cell_type": "markdown",
   "metadata": {},
   "source": [
    "## 2.0 - Train Models\n",
    "\n",
    "The following widgets allow a user to choose a dataframe, select a subset of variables to groupby, and build appropriate datatype aggregations (ex. counts for categorical fields; summary statistics for numerical fields).  The function below does not require editing if being applied to another notebook (however, it can be extended to include additional transformations as needed)."
   ]
  },
  {
   "cell_type": "markdown",
   "metadata": {},
   "source": [
    "## 2.1 - Select Your Target Variable\n",
    "\n",
    "Your \"Target\" variable represents the thing you are attempting to predict. It should be either \"categorical\" (ex. text, labels) or \"continuous\" (ex. numeric values) in nature. The target and its type will impact which algorithms are used and the evaluation metrics that are useful in evaluating each models' performance."
   ]
  },
  {
   "cell_type": "markdown",
   "metadata": {},
   "source": [
    "Select your Target variable and note whether or not it is a categorical or continuous data type:"
   ]
  },
  {
   "cell_type": "code",
   "execution_count": 118,
   "metadata": {},
   "outputs": [
    {
     "data": {
      "application/vnd.jupyter.widget-view+json": {
       "model_id": "9b0bedb62efe48dd9bfc297d4f95f75d",
       "version_major": 2,
       "version_minor": 0
      },
      "text/plain": [
       "Select(description='Target', options=('attrition', 'gender', 'age', 'staff_category', 'stock_options', 'perfor…"
      ]
     },
     "metadata": {},
     "output_type": "display_data"
    },
    {
     "data": {
      "application/vnd.jupyter.widget-view+json": {
       "model_id": "af14a329fc3e41088ec6d65ab94d0f02",
       "version_major": 2,
       "version_minor": 0
      },
      "text/plain": [
       "Select(description='Type', options=('Continuous', 'Categorical'), value='Continuous')"
      ]
     },
     "metadata": {},
     "output_type": "display_data"
    }
   ],
   "source": [
    "target = widgets.Select(\n",
    "    options=master_data['custom_table'].columns.tolist(),\n",
    "    description='Target',\n",
    "    disabled=False\n",
    ")\n",
    "\n",
    "target_type = widgets.Select(\n",
    "    options=['Continuous','Categorical'],\n",
    "    description='Type',\n",
    "    disabled=False,\n",
    ")\n",
    "\n",
    "display(target)\n",
    "display(target_type)"
   ]
  },
  {
   "cell_type": "markdown",
   "metadata": {},
   "source": [
    "## Reminder: Do not rerun the cell above after applying your inputs\n",
    "\n",
    "### Click on and Run this cell to proceed"
   ]
  },
  {
   "cell_type": "markdown",
   "metadata": {},
   "source": [
    "## 2.2 - Initiate H2O\n",
    "\n",
    "The code cell below will terminate any existing h2o instances and create a new instance"
   ]
  },
  {
   "cell_type": "code",
   "execution_count": 120,
   "metadata": {},
   "outputs": [
    {
     "name": "stdout",
     "output_type": "stream",
     "text": [
      "Checking whether there is an H2O instance running at http://localhost:54321 ..... not found.\n",
      "Attempting to start a local H2O server...\n",
      "  Java Version: java version \"1.8.0_171\"; Java(TM) SE Runtime Environment (build 1.8.0_171-b11); Java HotSpot(TM) 64-Bit Server VM (build 25.171-b11, mixed mode)\n",
      "  Starting server from /anaconda3/lib/python3.6/site-packages/h2o/backend/bin/h2o.jar\n",
      "  Ice root: /var/folders/6k/j123vpgj42xf7z7vhxmc8bsw0000gn/T/tmpvrj8ik9u\n",
      "  JVM stdout: /var/folders/6k/j123vpgj42xf7z7vhxmc8bsw0000gn/T/tmpvrj8ik9u/h2o_bblanchard006_started_from_python.out\n",
      "  JVM stderr: /var/folders/6k/j123vpgj42xf7z7vhxmc8bsw0000gn/T/tmpvrj8ik9u/h2o_bblanchard006_started_from_python.err\n",
      "  Server is running at http://127.0.0.1:54321\n",
      "Connecting to H2O server at http://127.0.0.1:54321 ... successful.\n",
      "Warning: Your H2O cluster version is too old (3 months and 28 days)! Please download and install the latest version from http://h2o.ai/download/\n"
     ]
    },
    {
     "data": {
      "text/html": [
       "<div style=\"overflow:auto\"><table style=\"width:50%\"><tr><td>H2O cluster uptime:</td>\n",
       "<td>02 secs</td></tr>\n",
       "<tr><td>H2O cluster timezone:</td>\n",
       "<td>America/Chicago</td></tr>\n",
       "<tr><td>H2O data parsing timezone:</td>\n",
       "<td>UTC</td></tr>\n",
       "<tr><td>H2O cluster version:</td>\n",
       "<td>3.24.0.4</td></tr>\n",
       "<tr><td>H2O cluster version age:</td>\n",
       "<td>3 months and 28 days !!!</td></tr>\n",
       "<tr><td>H2O cluster name:</td>\n",
       "<td>H2O_from_python_bblanchard006_9yzrl9</td></tr>\n",
       "<tr><td>H2O cluster total nodes:</td>\n",
       "<td>1</td></tr>\n",
       "<tr><td>H2O cluster free memory:</td>\n",
       "<td>3.556 Gb</td></tr>\n",
       "<tr><td>H2O cluster total cores:</td>\n",
       "<td>8</td></tr>\n",
       "<tr><td>H2O cluster allowed cores:</td>\n",
       "<td>8</td></tr>\n",
       "<tr><td>H2O cluster status:</td>\n",
       "<td>accepting new members, healthy</td></tr>\n",
       "<tr><td>H2O connection url:</td>\n",
       "<td>http://127.0.0.1:54321</td></tr>\n",
       "<tr><td>H2O connection proxy:</td>\n",
       "<td>None</td></tr>\n",
       "<tr><td>H2O internal security:</td>\n",
       "<td>False</td></tr>\n",
       "<tr><td>H2O API Extensions:</td>\n",
       "<td>Amazon S3, XGBoost, Algos, AutoML, Core V3, Core V4</td></tr>\n",
       "<tr><td>Python version:</td>\n",
       "<td>3.6.2 final</td></tr></table></div>"
      ],
      "text/plain": [
       "--------------------------  ---------------------------------------------------\n",
       "H2O cluster uptime:         02 secs\n",
       "H2O cluster timezone:       America/Chicago\n",
       "H2O data parsing timezone:  UTC\n",
       "H2O cluster version:        3.24.0.4\n",
       "H2O cluster version age:    3 months and 28 days !!!\n",
       "H2O cluster name:           H2O_from_python_bblanchard006_9yzrl9\n",
       "H2O cluster total nodes:    1\n",
       "H2O cluster free memory:    3.556 Gb\n",
       "H2O cluster total cores:    8\n",
       "H2O cluster allowed cores:  8\n",
       "H2O cluster status:         accepting new members, healthy\n",
       "H2O connection url:         http://127.0.0.1:54321\n",
       "H2O connection proxy:\n",
       "H2O internal security:      False\n",
       "H2O API Extensions:         Amazon S3, XGBoost, Algos, AutoML, Core V3, Core V4\n",
       "Python version:             3.6.2 final\n",
       "--------------------------  ---------------------------------------------------"
      ]
     },
     "metadata": {},
     "output_type": "display_data"
    }
   ],
   "source": [
    "try:\n",
    "    h2o.cluster().shutdown()\n",
    "    h2o.init()\n",
    "except:\n",
    "    h2o.init()"
   ]
  },
  {
   "cell_type": "markdown",
   "metadata": {},
   "source": [
    "## IMPORTANT: If you are rerunning this workflow and have not \"restarted your kernel\" you will need to run the \"cell\" above up to three times to clear the instances.\n",
    "\n",
    "**DO NOT PROCEED UNTIL** the above cell contains the following text (which will be visible just above a summary table):\n",
    "\n",
    "Connecting to H2O server at http://127.0.0.1:54321 ... successful."
   ]
  },
  {
   "cell_type": "markdown",
   "metadata": {},
   "source": [
    "Load your dataset into h2o by running the command below"
   ]
  },
  {
   "cell_type": "code",
   "execution_count": 121,
   "metadata": {},
   "outputs": [
    {
     "name": "stdout",
     "output_type": "stream",
     "text": [
      "Parse progress: |█████████████████████████████████████████████████████████| 100%\n"
     ]
    }
   ],
   "source": [
    "df = master_data['custom_table'].dropna(subset=[target.value])\n",
    "df = h2o.H2OFrame(df)"
   ]
  },
  {
   "cell_type": "markdown",
   "metadata": {},
   "source": [
    "Once the \"Parse progress:\" reaches 100% above, confirm that your dataset has been loaded correctly by reviewing the table below"
   ]
  },
  {
   "cell_type": "code",
   "execution_count": 122,
   "metadata": {},
   "outputs": [
    {
     "name": "stdout",
     "output_type": "stream",
     "text": [
      "Rows:1821\n",
      "Cols:13\n",
      "\n",
      "\n"
     ]
    },
    {
     "data": {
      "text/html": [
       "<table>\n",
       "<thead>\n",
       "<tr><th>       </th><th>attrition  </th><th>gender  </th><th>age              </th><th>staff_category  </th><th>stock_options  </th><th>performance_rating  </th><th>employee_satisfaction  </th><th>recent_salary     </th><th>last_raise       </th><th>commute_distance  </th><th>percent_travel   </th><th>marital_status  </th><th>education       </th></tr>\n",
       "</thead>\n",
       "<tbody>\n",
       "<tr><td>type   </td><td>enum       </td><td>enum    </td><td>int              </td><td>enum            </td><td>enum           </td><td>enum                </td><td>int                    </td><td>int               </td><td>int              </td><td>int               </td><td>int              </td><td>enum            </td><td>enum            </td></tr>\n",
       "<tr><td>mins   </td><td>           </td><td>        </td><td>35.0             </td><td>                </td><td>               </td><td>                    </td><td>30.0                   </td><td>50011.0           </td><td>0.0              </td><td>0.0               </td><td>10.0             </td><td>                </td><td>                </td></tr>\n",
       "<tr><td>mean   </td><td>           </td><td>        </td><td>47.48489840746846</td><td>                </td><td>               </td><td>                    </td><td>65.34761120263583      </td><td>124521.48160351467</td><td>7480.488193300378</td><td>22.616694124107624</td><td>54.50356946732567</td><td>                </td><td>                </td></tr>\n",
       "<tr><td>maxs   </td><td>           </td><td>        </td><td>61.0             </td><td>                </td><td>               </td><td>                    </td><td>100.0                  </td><td>199951.0          </td><td>25995.0          </td><td>45.0              </td><td>100.0            </td><td>                </td><td>                </td></tr>\n",
       "<tr><td>sigma  </td><td>           </td><td>        </td><td>7.373729531330242</td><td>                </td><td>               </td><td>                    </td><td>20.591406536141868     </td><td>43997.9719529909  </td><td>6361.386951585329</td><td>13.259258687170687</td><td>26.66300918276992</td><td>                </td><td>                </td></tr>\n",
       "<tr><td>zeros  </td><td>           </td><td>        </td><td>0                </td><td>                </td><td>               </td><td>                    </td><td>0                      </td><td>0                 </td><td>327              </td><td>39                </td><td>0                </td><td>                </td><td>                </td></tr>\n",
       "<tr><td>missing</td><td>0          </td><td>0       </td><td>0                </td><td>0               </td><td>0              </td><td>0                   </td><td>0                      </td><td>0                 </td><td>0                </td><td>0                 </td><td>0                </td><td>0               </td><td>0               </td></tr>\n",
       "<tr><td>0      </td><td>No         </td><td>male    </td><td>59.0             </td><td>Salaried        </td><td>Not Eligible   </td><td>A                   </td><td>31.0                   </td><td>158975.0          </td><td>13127.0          </td><td>38.0              </td><td>72.0             </td><td>Single          </td><td>Graduate Degree </td></tr>\n",
       "<tr><td>1      </td><td>No         </td><td>female  </td><td>53.0             </td><td>Salaried        </td><td>Not Eligible   </td><td>C                   </td><td>35.0                   </td><td>135190.0          </td><td>10015.0          </td><td>32.0              </td><td>93.0             </td><td>Single          </td><td>PhD             </td></tr>\n",
       "<tr><td>2      </td><td>No         </td><td>male    </td><td>40.0             </td><td>Salaried        </td><td>Eligible       </td><td>D                   </td><td>75.0                   </td><td>150110.0          </td><td>8497.0           </td><td>0.0               </td><td>46.0             </td><td>Married         </td><td>Graduate Degree </td></tr>\n",
       "<tr><td>3      </td><td>No         </td><td>female  </td><td>39.0             </td><td>Salaried        </td><td>Not Eligible   </td><td>A                   </td><td>72.0                   </td><td>160265.0          </td><td>17172.0          </td><td>16.0              </td><td>18.0             </td><td>Single          </td><td>Bachelors Degree</td></tr>\n",
       "<tr><td>4      </td><td>Yes        </td><td>male    </td><td>44.0             </td><td>Hourly          </td><td>Not Eligible   </td><td>B                   </td><td>39.0                   </td><td>116863.0          </td><td>6615.0           </td><td>29.0              </td><td>95.0             </td><td>Married         </td><td>Some College    </td></tr>\n",
       "<tr><td>5      </td><td>No         </td><td>female  </td><td>50.0             </td><td>Salaried        </td><td>Not Eligible   </td><td>A                   </td><td>69.0                   </td><td>172459.0          </td><td>12775.0          </td><td>20.0              </td><td>41.0             </td><td>Single          </td><td>Some College    </td></tr>\n",
       "<tr><td>6      </td><td>No         </td><td>female  </td><td>40.0             </td><td>Salaried        </td><td>Not Eligible   </td><td>A                   </td><td>43.0                   </td><td>65816.0           </td><td>4876.0           </td><td>3.0               </td><td>23.0             </td><td>Married         </td><td>Graduate Degree </td></tr>\n",
       "<tr><td>7      </td><td>Yes        </td><td>female  </td><td>46.0             </td><td>Salaried        </td><td>Not Eligible   </td><td>A                   </td><td>38.0                   </td><td>195400.0          </td><td>12784.0          </td><td>14.0              </td><td>90.0             </td><td>Single          </td><td>Some College    </td></tr>\n",
       "<tr><td>8      </td><td>Yes        </td><td>female  </td><td>46.0             </td><td>Hourly          </td><td>Not Eligible   </td><td>A                   </td><td>57.0                   </td><td>134292.0          </td><td>0.0              </td><td>13.0              </td><td>26.0             </td><td>Married         </td><td>PhD             </td></tr>\n",
       "<tr><td>9      </td><td>No         </td><td>female  </td><td>58.0             </td><td>Salaried        </td><td>Not Eligible   </td><td>A                   </td><td>50.0                   </td><td>194592.0          </td><td>23898.0          </td><td>29.0              </td><td>81.0             </td><td>Married         </td><td>Graduate Degree </td></tr>\n",
       "</tbody>\n",
       "</table>"
      ]
     },
     "metadata": {},
     "output_type": "display_data"
    }
   ],
   "source": [
    "df.describe()"
   ]
  },
  {
   "cell_type": "markdown",
   "metadata": {},
   "source": [
    "If your \"Target\" variable is categorical, the code below will convert it to a factor before modeling"
   ]
  },
  {
   "cell_type": "code",
   "execution_count": 123,
   "metadata": {},
   "outputs": [],
   "source": [
    "if target_type.value == 'Categorical':\n",
    "    df[target.value] = df[target.value].asfactor()"
   ]
  },
  {
   "cell_type": "markdown",
   "metadata": {},
   "source": [
    "## 2.3 - Configure Models\n",
    "\n",
    "The parameters below can be left in their default settings or modified to meet your specific requirements."
   ]
  },
  {
   "cell_type": "code",
   "execution_count": 124,
   "metadata": {},
   "outputs": [
    {
     "data": {
      "application/vnd.jupyter.widget-view+json": {
       "model_id": "b45b4ce43fda4ce386cb47d26ad2c5be",
       "version_major": 2,
       "version_minor": 0
      },
      "text/plain": [
       "Text(value='My Project Name', description='Project:', layout=Layout(width='50%'), placeholder='My Project Name…"
      ]
     },
     "metadata": {},
     "output_type": "display_data"
    },
    {
     "data": {
      "application/vnd.jupyter.widget-view+json": {
       "model_id": "24d9b546268a46129cc1b39efbc0a391",
       "version_major": 2,
       "version_minor": 0
      },
      "text/plain": [
       "interactive(children=(RadioButtons(description='Sampling:', options=('Train | Test', 'Cross Validation', 'Use …"
      ]
     },
     "metadata": {},
     "output_type": "display_data"
    },
    {
     "data": {
      "application/vnd.jupyter.widget-view+json": {
       "model_id": "ace98e819c204fdd9c0aa9f6771d29c9",
       "version_major": 2,
       "version_minor": 0
      },
      "text/plain": [
       "interactive(children=(RadioButtons(description='Algorithms:', options=('Use defaults', 'Select from list'), va…"
      ]
     },
     "metadata": {},
     "output_type": "display_data"
    },
    {
     "data": {
      "application/vnd.jupyter.widget-view+json": {
       "model_id": "f9fc51c81abe44099d1e373a10377e57",
       "version_major": 2,
       "version_minor": 0
      },
      "text/plain": [
       "IntSlider(value=5, description='Run (min):', max=60, min=1)"
      ]
     },
     "metadata": {},
     "output_type": "display_data"
    },
    {
     "name": "stdout",
     "output_type": "stream",
     "text": [
      "The Run (min) value will determine how long the process builds models\n"
     ]
    }
   ],
   "source": [
    "sample_type = widgets.RadioButtons(\n",
    "    options=['Train | Test', 'Cross Validation', 'Use Data Field'],\n",
    "    description='Sampling:',\n",
    "    disabled=False\n",
    ")\n",
    "\n",
    "train_perc = widgets.FloatSlider(\n",
    "    value=.70,\n",
    "    min=.50,\n",
    "    max=.80,\n",
    "    step=.01,\n",
    "    description='Train %:',\n",
    "    disabled=False,\n",
    "    continuous_update=True,\n",
    "    orientation='horizontal',\n",
    "    readout=True,\n",
    "    readout_format='.2f'\n",
    ")\n",
    "\n",
    "nfolds = widgets.IntSlider(\n",
    "    value=3,\n",
    "    min=3,\n",
    "    max=10,\n",
    "    step=1,\n",
    "    description='CV Folds:',\n",
    "    disabled=False,\n",
    "    continuous_update=True,\n",
    "    orientation='horizontal',\n",
    "    readout=True,\n",
    "    readout_format='d'\n",
    ")\n",
    "\n",
    "project_name = widgets.Text(\n",
    "    value='My Project Name',\n",
    "#     value='Crash_Qtr02_2018.xlsx'\n",
    "    placeholder='My Project Name',\n",
    "    description='Project:',\n",
    "    disabled=False,\n",
    "    layout=Layout(width='50%')\n",
    ")\n",
    "\n",
    "include_algos = widgets.SelectMultiple(\n",
    "    options=['DRF','GLM','XGBoost','GBM','DeepLearning','StackedEnsemble'],\n",
    "    description='Include:',\n",
    "    disabled=False,\n",
    ")\n",
    "\n",
    "specify_algos = widgets.RadioButtons(\n",
    "    options=[\"Use defaults\" , 'Select from list'],\n",
    "    description='Algorithms:',\n",
    "    disabled=False\n",
    ")\n",
    "\n",
    "run_time_mins = widgets.IntSlider(\n",
    "    value=5,\n",
    "    min=1,\n",
    "    max=60,\n",
    "    step=1,\n",
    "    description='Run (min):',\n",
    "    disabled=False,\n",
    "    continuous_update=True,\n",
    "    orientation='horizontal',\n",
    "    readout=True,\n",
    "    readout_format='d'\n",
    ")\n",
    "\n",
    "def algo_select(x):\n",
    "    if(x=='Select from list'):\n",
    "        display(include_algos)\n",
    "    else:\n",
    "        print('Using all available algorithms')\n",
    "\n",
    "def sampling(x):\n",
    "    if(x=='Train | Test'):\n",
    "        display(train_perc)\n",
    "    elif (x=='Cross Validation'):\n",
    "        display(nfolds)\n",
    "        print('Train %: Not needed for Cross Validation')\n",
    "    else:\n",
    "        display(sample_fields)\n",
    "        print('Sampling field to be selected in the next cell')\n",
    "\n",
    "        \n",
    "sample_fields = widgets.Select(\n",
    "    options=master_data['custom_table'].columns.tolist(),\n",
    "    description='Sample on:',\n",
    "    disabled=False\n",
    ")\n",
    "\n",
    "def sample_labels(x):\n",
    "    train_label = widgets.Select(\n",
    "        options=master_data['custom_table'][x].unique().tolist(),\n",
    "        description='Train Label:',\n",
    "        disabled=False\n",
    "    )\n",
    "\n",
    "    display(train_label)\n",
    "\n",
    "f = widgets.interactive(sampling, x=sample_type)\n",
    "g = widgets.interactive(algo_select, x=specify_algos)\n",
    "\n",
    "display(project_name,f,g,run_time_mins)\n",
    "print('The Run (min) value will determine how long the process builds models')"
   ]
  },
  {
   "cell_type": "markdown",
   "metadata": {},
   "source": [
    "## Reminder: Do not rerun the cell above after applying your inputs\n",
    "\n",
    "### Click on and Run this cell to proceed\n",
    "\n",
    "If you have already included a field to separate your data into a training and testing set, please select which label in the field should be used as your training data.  All other labels will be assigned to the testing set."
   ]
  },
  {
   "cell_type": "code",
   "execution_count": 125,
   "metadata": {},
   "outputs": [
    {
     "name": "stdout",
     "output_type": "stream",
     "text": [
      "If you have already created a sampling field in your dataset, please select the label that designates your training data\n"
     ]
    },
    {
     "data": {
      "application/vnd.jupyter.widget-view+json": {
       "model_id": "4946013579cf41f98259275c8a1c534b",
       "version_major": 2,
       "version_minor": 0
      },
      "text/plain": [
       "interactive(children=(Text(value='Train | Test', description='Method'), Output()), _dom_classes=('widget-inter…"
      ]
     },
     "metadata": {},
     "output_type": "display_data"
    }
   ],
   "source": [
    "def sample_by_field(Method):\n",
    "    if(Method=='Use Data Field'):\n",
    "        display(sample_field_label_value)\n",
    "    else:\n",
    "        print('Using h2o.ai sampling procedure')\n",
    "       \n",
    "sample_field_label_value = widgets.Select(\n",
    "    options=master_data['custom_table'][sample_fields.value].unique().tolist(),\n",
    "    description='Train on:',\n",
    "    disabled=False\n",
    ")\n",
    "\n",
    "print(\"If you have already created a sampling field in your dataset, please select the label that designates your training data\")\n",
    "b = widgets.interactive(sample_by_field, Method=sample_type.value)\n",
    "\n",
    "display(b)\n"
   ]
  },
  {
   "cell_type": "markdown",
   "metadata": {},
   "source": [
    "## Reminder: Do not rerun the cell above after applying your inputs\n",
    "\n",
    "### Click on and Run this cell to proceed\n",
    "The code below will compile the settings you have selected above into the H2OAutoML function"
   ]
  },
  {
   "cell_type": "code",
   "execution_count": 126,
   "metadata": {},
   "outputs": [],
   "source": [
    "if sample_type.value == 'Train | Test':\n",
    "    cv_folds = 0\n",
    "    splits = df.split_frame(ratios = [train_perc.value], seed = 1)\n",
    "    train = splits[0]\n",
    "    test = splits[1]\n",
    "elif sample_type.value == 'Use Data Field':\n",
    "    cv_folds = 0\n",
    "    train = df[df[sample_fields.value] == sample_field_label_value.value]\n",
    "    train = train.drop(sample_fields.value)\n",
    "    test = df[df[sample_fields.value] != sample_field_label_value.value]\n",
    "    test = test.drop(sample_fields.value)\n",
    "else:\n",
    "    cv_folds = nfolds.value\n",
    "\n",
    "min_to_secs = run_time_mins.value*60    \n",
    "\n",
    "algo_list = [x for x in include_algos.value]\n",
    "\n",
    "if specify_algos.value == 'Use defaults':\n",
    "    aml = H2OAutoML(max_runtime_secs = min_to_secs, seed = 1, project_name = project_name.value, nfolds=cv_folds)\n",
    "else:\n",
    "    aml = H2OAutoML(max_runtime_secs = min_to_secs, seed = 1, project_name = project_name.value, include_algos = algo_list, nfolds=cv_folds)\n"
   ]
  },
  {
   "cell_type": "markdown",
   "metadata": {},
   "source": [
    "## 2.4 - Automatically Train Models\n",
    "\n",
    "The code below will automatically generate as many models as possible within the time you have permitted.  If you have selected \"Cross Validation\" as your \"Sampling\" method above, note that the entire dataset will be used in modeling bby leveraging the \"CV Folds\" (Cross Validation Folds) you have entered.\n",
    "\n",
    "**NOTE:** This process will run for the number of minutes you have selected above and may provide different results if run iteratively based on the time it takes for specific algorithms to train."
   ]
  },
  {
   "cell_type": "code",
   "execution_count": 127,
   "metadata": {},
   "outputs": [
    {
     "name": "stdout",
     "output_type": "stream",
     "text": [
      "AutoML progress: |████████████████████████████████████████████████████████| 100%\n"
     ]
    }
   ],
   "source": [
    "if sample_type.value == 'Cross Validation':\n",
    "    aml.train(y = target.value, training_frame = df)\n",
    "else:\n",
    "    aml.train(y = target.value, training_frame = train, validation_frame = test, leaderboard_frame = test)"
   ]
  },
  {
   "cell_type": "markdown",
   "metadata": {},
   "source": [
    "Once the cell above shows 100%, executing the code cell below will show the \"leaderboard\" based on the specific evaluation metric you have selected to rank\n",
    "\n",
    "**Ranking:** The ranking defaults to AUC for binary classification, mean_per_class_error for multinomial classification, and deviance for regression."
   ]
  },
  {
   "cell_type": "code",
   "execution_count": 128,
   "metadata": {},
   "outputs": [
    {
     "data": {
      "text/html": [
       "<table>\n",
       "<thead>\n",
       "<tr><th>model_id                                     </th><th style=\"text-align: right;\">     auc</th><th style=\"text-align: right;\">  logloss</th><th style=\"text-align: right;\">  mean_per_class_error</th><th style=\"text-align: right;\">    rmse</th><th style=\"text-align: right;\">     mse</th></tr>\n",
       "</thead>\n",
       "<tbody>\n",
       "<tr><td>GBM_grid_1_AutoML_20190926_222821_model_9    </td><td style=\"text-align: right;\">0.65238 </td><td style=\"text-align: right;\"> 0.549631</td><td style=\"text-align: right;\">              0.376632</td><td style=\"text-align: right;\">0.426839</td><td style=\"text-align: right;\">0.182191</td></tr>\n",
       "<tr><td>GBM_grid_1_AutoML_20190926_222821_model_2    </td><td style=\"text-align: right;\">0.65237 </td><td style=\"text-align: right;\"> 0.547991</td><td style=\"text-align: right;\">              0.344211</td><td style=\"text-align: right;\">0.426138</td><td style=\"text-align: right;\">0.181594</td></tr>\n",
       "<tr><td>XGBoost_grid_1_AutoML_20190926_222821_model_7</td><td style=\"text-align: right;\">0.651729</td><td style=\"text-align: right;\"> 0.543641</td><td style=\"text-align: right;\">              0.366472</td><td style=\"text-align: right;\">0.427384</td><td style=\"text-align: right;\">0.182657</td></tr>\n",
       "<tr><td>XGBoost_grid_1_AutoML_20190926_222821_model_4</td><td style=\"text-align: right;\">0.650874</td><td style=\"text-align: right;\"> 0.560803</td><td style=\"text-align: right;\">              0.383469</td><td style=\"text-align: right;\">0.433976</td><td style=\"text-align: right;\">0.188335</td></tr>\n",
       "<tr><td>GBM_5_AutoML_20190926_222821                 </td><td style=\"text-align: right;\">0.64897 </td><td style=\"text-align: right;\"> 0.539201</td><td style=\"text-align: right;\">              0.349378</td><td style=\"text-align: right;\">0.425022</td><td style=\"text-align: right;\">0.180644</td></tr>\n",
       "<tr><td>XGBoost_grid_1_AutoML_20190926_222821_model_1</td><td style=\"text-align: right;\">0.64799 </td><td style=\"text-align: right;\"> 0.545603</td><td style=\"text-align: right;\">              0.361946</td><td style=\"text-align: right;\">0.428152</td><td style=\"text-align: right;\">0.183314</td></tr>\n",
       "<tr><td>XGBoost_1_AutoML_20190926_222821             </td><td style=\"text-align: right;\">0.64796 </td><td style=\"text-align: right;\"> 0.552172</td><td style=\"text-align: right;\">              0.371523</td><td style=\"text-align: right;\">0.432006</td><td style=\"text-align: right;\">0.18663 </td></tr>\n",
       "<tr><td>XGBoost_grid_1_AutoML_20190926_222821_model_2</td><td style=\"text-align: right;\">0.647145</td><td style=\"text-align: right;\"> 0.545032</td><td style=\"text-align: right;\">              0.36251 </td><td style=\"text-align: right;\">0.428534</td><td style=\"text-align: right;\">0.183641</td></tr>\n",
       "<tr><td>XGBoost_2_AutoML_20190926_222821             </td><td style=\"text-align: right;\">0.645998</td><td style=\"text-align: right;\"> 0.544141</td><td style=\"text-align: right;\">              0.349495</td><td style=\"text-align: right;\">0.427585</td><td style=\"text-align: right;\">0.182829</td></tr>\n",
       "<tr><td>XGBoost_grid_1_AutoML_20190926_222821_model_5</td><td style=\"text-align: right;\">0.64326 </td><td style=\"text-align: right;\"> 0.54016 </td><td style=\"text-align: right;\">              0.340482</td><td style=\"text-align: right;\">0.424035</td><td style=\"text-align: right;\">0.179805</td></tr>\n",
       "</tbody>\n",
       "</table>"
      ]
     },
     "metadata": {},
     "output_type": "display_data"
    },
    {
     "data": {
      "text/plain": []
     },
     "execution_count": 128,
     "metadata": {},
     "output_type": "execute_result"
    }
   ],
   "source": [
    "aml.leaderboard"
   ]
  },
  {
   "cell_type": "markdown",
   "metadata": {},
   "source": [
    "The following code returns a summary of the top performing model (per the leaderboard above) and how it performed on either the full dataset (if Cross Validation was selected) or the test dataset (if a training set was used during modeling)"
   ]
  },
  {
   "cell_type": "code",
   "execution_count": 129,
   "metadata": {},
   "outputs": [
    {
     "name": "stdout",
     "output_type": "stream",
     "text": [
      "\n",
      "ModelMetricsBinomial: gbm\n",
      "** Reported on test data. **\n",
      "\n",
      "MSE: 0.18219113254186933\n",
      "RMSE: 0.4268385321662857\n",
      "LogLoss: 0.5496307590749041\n",
      "Mean Per-Class Error: 0.3766317016317017\n",
      "AUC: 0.6523795648795649\n",
      "pr_auc: 0.3675076185587714\n",
      "Gini: 0.3047591297591299\n",
      "Confusion Matrix (Act/Pred) for max f1 @ threshold = 0.2693158675982793: \n"
     ]
    },
    {
     "data": {
      "text/html": [
       "<div style=\"overflow:auto\"><table style=\"width:50%\"><tr><td><b></b></td>\n",
       "<td><b>No</b></td>\n",
       "<td><b>Yes</b></td>\n",
       "<td><b>Error</b></td>\n",
       "<td><b>Rate</b></td></tr>\n",
       "<tr><td>No</td>\n",
       "<td>183.0</td>\n",
       "<td>213.0</td>\n",
       "<td>0.5379</td>\n",
       "<td> (213.0/396.0)</td></tr>\n",
       "<tr><td>Yes</td>\n",
       "<td>28.0</td>\n",
       "<td>102.0</td>\n",
       "<td>0.2154</td>\n",
       "<td> (28.0/130.0)</td></tr>\n",
       "<tr><td>Total</td>\n",
       "<td>211.0</td>\n",
       "<td>315.0</td>\n",
       "<td>0.4582</td>\n",
       "<td> (241.0/526.0)</td></tr></table></div>"
      ],
      "text/plain": [
       "       No    Yes    Error    Rate\n",
       "-----  ----  -----  -------  -------------\n",
       "No     183   213    0.5379   (213.0/396.0)\n",
       "Yes    28    102    0.2154   (28.0/130.0)\n",
       "Total  211   315    0.4582   (241.0/526.0)"
      ]
     },
     "metadata": {},
     "output_type": "display_data"
    },
    {
     "name": "stdout",
     "output_type": "stream",
     "text": [
      "Maximum Metrics: Maximum metrics at their respective thresholds\n",
      "\n"
     ]
    },
    {
     "data": {
      "text/html": [
       "<div style=\"overflow:auto\"><table style=\"width:50%\"><tr><td><b>metric</b></td>\n",
       "<td><b>threshold</b></td>\n",
       "<td><b>value</b></td>\n",
       "<td><b>idx</b></td></tr>\n",
       "<tr><td>max f1</td>\n",
       "<td>0.2693159</td>\n",
       "<td>0.4584270</td>\n",
       "<td>247.0</td></tr>\n",
       "<tr><td>max f2</td>\n",
       "<td>0.2505645</td>\n",
       "<td>0.6359876</td>\n",
       "<td>337.0</td></tr>\n",
       "<tr><td>max f0point5</td>\n",
       "<td>0.2976064</td>\n",
       "<td>0.3950954</td>\n",
       "<td>130.0</td></tr>\n",
       "<tr><td>max accuracy</td>\n",
       "<td>0.3705683</td>\n",
       "<td>0.7566540</td>\n",
       "<td>1.0</td></tr>\n",
       "<tr><td>max precision</td>\n",
       "<td>0.3880255</td>\n",
       "<td>1.0</td>\n",
       "<td>0.0</td></tr>\n",
       "<tr><td>max recall</td>\n",
       "<td>0.2366878</td>\n",
       "<td>1.0</td>\n",
       "<td>387.0</td></tr>\n",
       "<tr><td>max specificity</td>\n",
       "<td>0.3880255</td>\n",
       "<td>1.0</td>\n",
       "<td>0.0</td></tr>\n",
       "<tr><td>max absolute_mcc</td>\n",
       "<td>0.2693159</td>\n",
       "<td>0.2171483</td>\n",
       "<td>247.0</td></tr>\n",
       "<tr><td>max min_per_class_accuracy</td>\n",
       "<td>0.2833555</td>\n",
       "<td>0.6</td>\n",
       "<td>189.0</td></tr>\n",
       "<tr><td>max mean_per_class_accuracy</td>\n",
       "<td>0.2693159</td>\n",
       "<td>0.6233683</td>\n",
       "<td>247.0</td></tr></table></div>"
      ],
      "text/plain": [
       "metric                       threshold    value     idx\n",
       "---------------------------  -----------  --------  -----\n",
       "max f1                       0.269316     0.458427  247\n",
       "max f2                       0.250565     0.635988  337\n",
       "max f0point5                 0.297606     0.395095  130\n",
       "max accuracy                 0.370568     0.756654  1\n",
       "max precision                0.388025     1         0\n",
       "max recall                   0.236688     1         387\n",
       "max specificity              0.388025     1         0\n",
       "max absolute_mcc             0.269316     0.217148  247\n",
       "max min_per_class_accuracy   0.283355     0.6       189\n",
       "max mean_per_class_accuracy  0.269316     0.623368  247"
      ]
     },
     "metadata": {},
     "output_type": "display_data"
    },
    {
     "name": "stdout",
     "output_type": "stream",
     "text": [
      "Gains/Lift Table: Avg response rate: 24.71 %, avg score: 28.14 %\n",
      "\n"
     ]
    },
    {
     "data": {
      "text/html": [
       "<div style=\"overflow:auto\"><table style=\"width:50%\"><tr><td><b></b></td>\n",
       "<td><b>group</b></td>\n",
       "<td><b>cumulative_data_fraction</b></td>\n",
       "<td><b>lower_threshold</b></td>\n",
       "<td><b>lift</b></td>\n",
       "<td><b>cumulative_lift</b></td>\n",
       "<td><b>response_rate</b></td>\n",
       "<td><b>score</b></td>\n",
       "<td><b>cumulative_response_rate</b></td>\n",
       "<td><b>cumulative_score</b></td>\n",
       "<td><b>capture_rate</b></td>\n",
       "<td><b>cumulative_capture_rate</b></td>\n",
       "<td><b>gain</b></td>\n",
       "<td><b>cumulative_gain</b></td></tr>\n",
       "<tr><td></td>\n",
       "<td>1</td>\n",
       "<td>0.0114068</td>\n",
       "<td>0.3519909</td>\n",
       "<td>2.6974359</td>\n",
       "<td>2.6974359</td>\n",
       "<td>0.6666667</td>\n",
       "<td>0.3641777</td>\n",
       "<td>0.6666667</td>\n",
       "<td>0.3641777</td>\n",
       "<td>0.0307692</td>\n",
       "<td>0.0307692</td>\n",
       "<td>169.7435897</td>\n",
       "<td>169.7435897</td></tr>\n",
       "<tr><td></td>\n",
       "<td>2</td>\n",
       "<td>0.0209125</td>\n",
       "<td>0.3484488</td>\n",
       "<td>0.8092308</td>\n",
       "<td>1.8391608</td>\n",
       "<td>0.2</td>\n",
       "<td>0.3503575</td>\n",
       "<td>0.4545455</td>\n",
       "<td>0.3578958</td>\n",
       "<td>0.0076923</td>\n",
       "<td>0.0384615</td>\n",
       "<td>-19.0769231</td>\n",
       "<td>83.9160839</td></tr>\n",
       "<tr><td></td>\n",
       "<td>3</td>\n",
       "<td>0.0304183</td>\n",
       "<td>0.3436039</td>\n",
       "<td>1.6184615</td>\n",
       "<td>1.7701923</td>\n",
       "<td>0.4</td>\n",
       "<td>0.3454479</td>\n",
       "<td>0.4375</td>\n",
       "<td>0.3540058</td>\n",
       "<td>0.0153846</td>\n",
       "<td>0.0538462</td>\n",
       "<td>61.8461538</td>\n",
       "<td>77.0192308</td></tr>\n",
       "<tr><td></td>\n",
       "<td>4</td>\n",
       "<td>0.0418251</td>\n",
       "<td>0.3390279</td>\n",
       "<td>2.0230769</td>\n",
       "<td>1.8391608</td>\n",
       "<td>0.5</td>\n",
       "<td>0.3408414</td>\n",
       "<td>0.4545455</td>\n",
       "<td>0.3504155</td>\n",
       "<td>0.0230769</td>\n",
       "<td>0.0769231</td>\n",
       "<td>102.3076923</td>\n",
       "<td>83.9160839</td></tr>\n",
       "<tr><td></td>\n",
       "<td>5</td>\n",
       "<td>0.0513308</td>\n",
       "<td>0.3335419</td>\n",
       "<td>1.6184615</td>\n",
       "<td>1.7982906</td>\n",
       "<td>0.4</td>\n",
       "<td>0.3359068</td>\n",
       "<td>0.4444444</td>\n",
       "<td>0.3477287</td>\n",
       "<td>0.0153846</td>\n",
       "<td>0.0923077</td>\n",
       "<td>61.8461538</td>\n",
       "<td>79.8290598</td></tr>\n",
       "<tr><td></td>\n",
       "<td>6</td>\n",
       "<td>0.1007605</td>\n",
       "<td>0.3213284</td>\n",
       "<td>1.7118343</td>\n",
       "<td>1.7558781</td>\n",
       "<td>0.4230769</td>\n",
       "<td>0.3273165</td>\n",
       "<td>0.4339623</td>\n",
       "<td>0.3377152</td>\n",
       "<td>0.0846154</td>\n",
       "<td>0.1769231</td>\n",
       "<td>71.1834320</td>\n",
       "<td>75.5878084</td></tr>\n",
       "<tr><td></td>\n",
       "<td>7</td>\n",
       "<td>0.1501901</td>\n",
       "<td>0.3121160</td>\n",
       "<td>1.7118343</td>\n",
       "<td>1.7413827</td>\n",
       "<td>0.4230769</td>\n",
       "<td>0.3173101</td>\n",
       "<td>0.4303797</td>\n",
       "<td>0.3309996</td>\n",
       "<td>0.0846154</td>\n",
       "<td>0.2615385</td>\n",
       "<td>71.1834320</td>\n",
       "<td>74.1382668</td></tr>\n",
       "<tr><td></td>\n",
       "<td>8</td>\n",
       "<td>0.2015209</td>\n",
       "<td>0.3060193</td>\n",
       "<td>1.1988604</td>\n",
       "<td>1.6031930</td>\n",
       "<td>0.2962963</td>\n",
       "<td>0.3087744</td>\n",
       "<td>0.3962264</td>\n",
       "<td>0.3253385</td>\n",
       "<td>0.0615385</td>\n",
       "<td>0.3230769</td>\n",
       "<td>19.8860399</td>\n",
       "<td>60.3193033</td></tr>\n",
       "<tr><td></td>\n",
       "<td>9</td>\n",
       "<td>0.3003802</td>\n",
       "<td>0.2967750</td>\n",
       "<td>1.2449704</td>\n",
       "<td>1.4852970</td>\n",
       "<td>0.3076923</td>\n",
       "<td>0.3009737</td>\n",
       "<td>0.3670886</td>\n",
       "<td>0.3173197</td>\n",
       "<td>0.1230769</td>\n",
       "<td>0.4461538</td>\n",
       "<td>24.4970414</td>\n",
       "<td>48.5296981</td></tr>\n",
       "<tr><td></td>\n",
       "<td>10</td>\n",
       "<td>0.4011407</td>\n",
       "<td>0.2877956</td>\n",
       "<td>1.0687954</td>\n",
       "<td>1.3806781</td>\n",
       "<td>0.2641509</td>\n",
       "<td>0.2923652</td>\n",
       "<td>0.3412322</td>\n",
       "<td>0.3110515</td>\n",
       "<td>0.1076923</td>\n",
       "<td>0.5538462</td>\n",
       "<td>6.8795356</td>\n",
       "<td>38.0678090</td></tr>\n",
       "<tr><td></td>\n",
       "<td>11</td>\n",
       "<td>0.5</td>\n",
       "<td>0.2775191</td>\n",
       "<td>1.3227811</td>\n",
       "<td>1.3692308</td>\n",
       "<td>0.3269231</td>\n",
       "<td>0.2830170</td>\n",
       "<td>0.3384030</td>\n",
       "<td>0.3055086</td>\n",
       "<td>0.1307692</td>\n",
       "<td>0.6846154</td>\n",
       "<td>32.2781065</td>\n",
       "<td>36.9230769</td></tr>\n",
       "<tr><td></td>\n",
       "<td>12</td>\n",
       "<td>0.6007605</td>\n",
       "<td>0.2690592</td>\n",
       "<td>0.9924528</td>\n",
       "<td>1.3060370</td>\n",
       "<td>0.2452830</td>\n",
       "<td>0.2728926</td>\n",
       "<td>0.3227848</td>\n",
       "<td>0.3000382</td>\n",
       "<td>0.1</td>\n",
       "<td>0.7846154</td>\n",
       "<td>-0.7547170</td>\n",
       "<td>30.6037001</td></tr>\n",
       "<tr><td></td>\n",
       "<td>13</td>\n",
       "<td>0.6996198</td>\n",
       "<td>0.2620009</td>\n",
       "<td>0.5446746</td>\n",
       "<td>1.1984532</td>\n",
       "<td>0.1346154</td>\n",
       "<td>0.2658441</td>\n",
       "<td>0.2961957</td>\n",
       "<td>0.2952064</td>\n",
       "<td>0.0538462</td>\n",
       "<td>0.8384615</td>\n",
       "<td>-45.5325444</td>\n",
       "<td>19.8453177</td></tr>\n",
       "<tr><td></td>\n",
       "<td>14</td>\n",
       "<td>0.8003802</td>\n",
       "<td>0.2550067</td>\n",
       "<td>0.6870827</td>\n",
       "<td>1.1340764</td>\n",
       "<td>0.1698113</td>\n",
       "<td>0.2584217</td>\n",
       "<td>0.2802850</td>\n",
       "<td>0.2905755</td>\n",
       "<td>0.0692308</td>\n",
       "<td>0.9076923</td>\n",
       "<td>-31.2917271</td>\n",
       "<td>13.4076375</td></tr>\n",
       "<tr><td></td>\n",
       "<td>15</td>\n",
       "<td>0.8992395</td>\n",
       "<td>0.2463677</td>\n",
       "<td>0.4668639</td>\n",
       "<td>1.0607253</td>\n",
       "<td>0.1153846</td>\n",
       "<td>0.2503027</td>\n",
       "<td>0.2621564</td>\n",
       "<td>0.2861481</td>\n",
       "<td>0.0461538</td>\n",
       "<td>0.9538462</td>\n",
       "<td>-53.3136095</td>\n",
       "<td>6.0725321</td></tr>\n",
       "<tr><td></td>\n",
       "<td>16</td>\n",
       "<td>1.0</td>\n",
       "<td>0.2242189</td>\n",
       "<td>0.4580552</td>\n",
       "<td>1.0</td>\n",
       "<td>0.1132075</td>\n",
       "<td>0.2395007</td>\n",
       "<td>0.2471483</td>\n",
       "<td>0.2814479</td>\n",
       "<td>0.0461538</td>\n",
       "<td>1.0</td>\n",
       "<td>-54.1944848</td>\n",
       "<td>0.0</td></tr></table></div>"
      ],
      "text/plain": [
       "    group    cumulative_data_fraction    lower_threshold    lift      cumulative_lift    response_rate    score     cumulative_response_rate    cumulative_score    capture_rate    cumulative_capture_rate    gain       cumulative_gain\n",
       "--  -------  --------------------------  -----------------  --------  -----------------  ---------------  --------  --------------------------  ------------------  --------------  -------------------------  ---------  -----------------\n",
       "    1        0.0114068                   0.351991           2.69744   2.69744            0.666667         0.364178  0.666667                    0.364178            0.0307692       0.0307692                  169.744    169.744\n",
       "    2        0.0209125                   0.348449           0.809231  1.83916            0.2              0.350358  0.454545                    0.357896            0.00769231      0.0384615                  -19.0769   83.9161\n",
       "    3        0.0304183                   0.343604           1.61846   1.77019            0.4              0.345448  0.4375                      0.354006            0.0153846       0.0538462                  61.8462    77.0192\n",
       "    4        0.0418251                   0.339028           2.02308   1.83916            0.5              0.340841  0.454545                    0.350416            0.0230769       0.0769231                  102.308    83.9161\n",
       "    5        0.0513308                   0.333542           1.61846   1.79829            0.4              0.335907  0.444444                    0.347729            0.0153846       0.0923077                  61.8462    79.8291\n",
       "    6        0.10076                     0.321328           1.71183   1.75588            0.423077         0.327317  0.433962                    0.337715            0.0846154       0.176923                   71.1834    75.5878\n",
       "    7        0.15019                     0.312116           1.71183   1.74138            0.423077         0.31731   0.43038                     0.331               0.0846154       0.261538                   71.1834    74.1383\n",
       "    8        0.201521                    0.306019           1.19886   1.60319            0.296296         0.308774  0.396226                    0.325338            0.0615385       0.323077                   19.886     60.3193\n",
       "    9        0.30038                     0.296775           1.24497   1.4853             0.307692         0.300974  0.367089                    0.31732             0.123077        0.446154                   24.497     48.5297\n",
       "    10       0.401141                    0.287796           1.0688    1.38068            0.264151         0.292365  0.341232                    0.311052            0.107692        0.553846                   6.87954    38.0678\n",
       "    11       0.5                         0.277519           1.32278   1.36923            0.326923         0.283017  0.338403                    0.305509            0.130769        0.684615                   32.2781    36.9231\n",
       "    12       0.60076                     0.269059           0.992453  1.30604            0.245283         0.272893  0.322785                    0.300038            0.1             0.784615                   -0.754717  30.6037\n",
       "    13       0.69962                     0.262001           0.544675  1.19845            0.134615         0.265844  0.296196                    0.295206            0.0538462       0.838462                   -45.5325   19.8453\n",
       "    14       0.80038                     0.255007           0.687083  1.13408            0.169811         0.258422  0.280285                    0.290576            0.0692308       0.907692                   -31.2917   13.4076\n",
       "    15       0.89924                     0.246368           0.466864  1.06073            0.115385         0.250303  0.262156                    0.286148            0.0461538       0.953846                   -53.3136   6.07253\n",
       "    16       1                           0.224219           0.458055  1                  0.113208         0.239501  0.247148                    0.281448            0.0461538       1                          -54.1945   0"
      ]
     },
     "metadata": {},
     "output_type": "display_data"
    },
    {
     "name": "stdout",
     "output_type": "stream",
     "text": [
      "\n",
      "\n"
     ]
    }
   ],
   "source": [
    "if sample_type.value == 'Cross Validation':\n",
    "    eval_results = aml.leader.model_performance()\n",
    "else:\n",
    "    eval_results = aml.leader.model_performance(test)\n",
    "    \n",
    "print(eval_results)"
   ]
  },
  {
   "cell_type": "markdown",
   "metadata": {},
   "source": [
    "If you would like to investigate the parameters that were used by the model or would like to review any other method associated with the model,  please select from the the list below.\n",
    "\n",
    "**NOTE:** Not all methods may be relevant to all algorithms. If you would like to print a plot of your important variables, select the \"varimp_plot\" if available in the list.  You can also print the standardized coefficients using the \"std_coef_plot\" method if listed."
   ]
  },
  {
   "cell_type": "code",
   "execution_count": 130,
   "metadata": {},
   "outputs": [
    {
     "data": {
      "application/vnd.jupyter.widget-view+json": {
       "model_id": "4bb4521df3824b7a97af8ce7f2f1695c",
       "version_major": 2,
       "version_minor": 0
      },
      "text/plain": [
       "Select(description='Method:', options=('F0point5', 'F1', 'F2', 'accuracy', 'actual_params', 'aic', 'algo', 'au…"
      ]
     },
     "metadata": {},
     "output_type": "display_data"
    }
   ],
   "source": [
    "all_methods = dir(aml.leader)\n",
    "keep_methods = [x for x in all_methods if not x.startswith('_')]\n",
    "\n",
    "methods = widgets.Select(\n",
    "    options=keep_methods,\n",
    "    description='Method:',\n",
    "    disabled=False\n",
    ")\n",
    "\n",
    "display(methods)"
   ]
  },
  {
   "cell_type": "markdown",
   "metadata": {},
   "source": [
    "## Reminder: Do not rerun the cell above after applying your inputs\n",
    "\n",
    "### Click on and Run this cell to proceed\n",
    "After making your selection above, the results will display as appropriate in the cell below:"
   ]
  },
  {
   "cell_type": "code",
   "execution_count": 131,
   "metadata": {},
   "outputs": [
    {
     "data": {
      "image/png": "[encoded data removed]",
      "text/plain": [
       "<Figure size 1008x720 with 1 Axes>"
      ]
     },
     "metadata": {
      "needs_background": "light"
     },
     "output_type": "display_data"
    },
    {
     "name": "stdout",
     "output_type": "stream",
     "text": [
      "varimp_plot: None\n"
     ]
    }
   ],
   "source": [
    "try:\n",
    "    print('{}: {}'.format(methods.value, eval('aml.leader.'+methods.value+'()')))\n",
    "except:\n",
    "    print('{}: {}'.format(methods.value, eval('aml.leader.'+methods.value)))"
   ]
  },
  {
   "cell_type": "markdown",
   "metadata": {},
   "source": [
    "### Score your existing dataset with the top model\n",
    "\n",
    "The code below will apply predicted-values to your full dataset should you wish to evaluate the results against the historical results.\n",
    "\n",
    "**Note:** This is different than if you want to apply your model against new data (which we will cover in the section to follow)."
   ]
  },
  {
   "cell_type": "code",
   "execution_count": 83,
   "metadata": {},
   "outputs": [
    {
     "name": "stdout",
     "output_type": "stream",
     "text": [
      "glm prediction progress: |████████████████████████████████████████████████| 100%\n"
     ]
    },
    {
     "data": {
      "text/html": [
       "<table>\n",
       "<thead>\n",
       "<tr><th style=\"text-align: right;\">  Survived</th><th style=\"text-align: right;\">  Pclass</th><th>Name                                              </th><th>Sex   </th><th style=\"text-align: right;\">  Age</th><th style=\"text-align: right;\">  Siblings/Spouses Aboard</th><th style=\"text-align: right;\">  Parents/Children Aboard</th><th style=\"text-align: right;\">   Fare</th><th style=\"text-align: right;\">  predict</th><th style=\"text-align: right;\">       p0</th><th style=\"text-align: right;\">       p1</th></tr>\n",
       "</thead>\n",
       "<tbody>\n",
       "<tr><td style=\"text-align: right;\">         0</td><td style=\"text-align: right;\">       3</td><td>Mr. Owen Harris Braund                            </td><td>male  </td><td style=\"text-align: right;\">   22</td><td style=\"text-align: right;\">                        1</td><td style=\"text-align: right;\">                        0</td><td style=\"text-align: right;\"> 7.25  </td><td style=\"text-align: right;\">        0</td><td style=\"text-align: right;\">0.905767 </td><td style=\"text-align: right;\">0.094233 </td></tr>\n",
       "<tr><td style=\"text-align: right;\">         1</td><td style=\"text-align: right;\">       1</td><td>Mrs. John Bradley (Florence Briggs Thayer) Cumings</td><td>female</td><td style=\"text-align: right;\">   38</td><td style=\"text-align: right;\">                        1</td><td style=\"text-align: right;\">                        0</td><td style=\"text-align: right;\">71.2833</td><td style=\"text-align: right;\">        1</td><td style=\"text-align: right;\">0.102079 </td><td style=\"text-align: right;\">0.897921 </td></tr>\n",
       "<tr><td style=\"text-align: right;\">         1</td><td style=\"text-align: right;\">       3</td><td>Miss. Laina Heikkinen                             </td><td>female</td><td style=\"text-align: right;\">   26</td><td style=\"text-align: right;\">                        0</td><td style=\"text-align: right;\">                        0</td><td style=\"text-align: right;\"> 7.925 </td><td style=\"text-align: right;\">        1</td><td style=\"text-align: right;\">0.35256  </td><td style=\"text-align: right;\">0.64744  </td></tr>\n",
       "<tr><td style=\"text-align: right;\">         1</td><td style=\"text-align: right;\">       1</td><td>Mrs. Jacques Heath (Lily May Peel) Futrelle       </td><td>female</td><td style=\"text-align: right;\">   35</td><td style=\"text-align: right;\">                        1</td><td style=\"text-align: right;\">                        0</td><td style=\"text-align: right;\">53.1   </td><td style=\"text-align: right;\">        1</td><td style=\"text-align: right;\">0.0957476</td><td style=\"text-align: right;\">0.904252 </td></tr>\n",
       "<tr><td style=\"text-align: right;\">         0</td><td style=\"text-align: right;\">       3</td><td>Mr. William Henry Allen                           </td><td>male  </td><td style=\"text-align: right;\">   35</td><td style=\"text-align: right;\">                        0</td><td style=\"text-align: right;\">                        0</td><td style=\"text-align: right;\"> 8.05  </td><td style=\"text-align: right;\">        0</td><td style=\"text-align: right;\">0.918241 </td><td style=\"text-align: right;\">0.0817586</td></tr>\n",
       "<tr><td style=\"text-align: right;\">         0</td><td style=\"text-align: right;\">       3</td><td>Mr. James Moran                                   </td><td>male  </td><td style=\"text-align: right;\">   27</td><td style=\"text-align: right;\">                        0</td><td style=\"text-align: right;\">                        0</td><td style=\"text-align: right;\"> 8.4583</td><td style=\"text-align: right;\">        0</td><td style=\"text-align: right;\">0.889531 </td><td style=\"text-align: right;\">0.110469 </td></tr>\n",
       "<tr><td style=\"text-align: right;\">         0</td><td style=\"text-align: right;\">       1</td><td>Mr. Timothy J McCarthy                            </td><td>male  </td><td style=\"text-align: right;\">   54</td><td style=\"text-align: right;\">                        0</td><td style=\"text-align: right;\">                        0</td><td style=\"text-align: right;\">51.8625</td><td style=\"text-align: right;\">        0</td><td style=\"text-align: right;\">0.693979 </td><td style=\"text-align: right;\">0.306021 </td></tr>\n",
       "<tr><td style=\"text-align: right;\">         0</td><td style=\"text-align: right;\">       3</td><td>Master. Gosta Leonard Palsson                     </td><td>male  </td><td style=\"text-align: right;\">    2</td><td style=\"text-align: right;\">                        3</td><td style=\"text-align: right;\">                        1</td><td style=\"text-align: right;\">21.075 </td><td style=\"text-align: right;\">        0</td><td style=\"text-align: right;\">0.904934 </td><td style=\"text-align: right;\">0.0950656</td></tr>\n",
       "<tr><td style=\"text-align: right;\">         1</td><td style=\"text-align: right;\">       3</td><td>Mrs. Oscar W (Elisabeth Vilhelmina Berg) Johnson  </td><td>female</td><td style=\"text-align: right;\">   27</td><td style=\"text-align: right;\">                        0</td><td style=\"text-align: right;\">                        2</td><td style=\"text-align: right;\">11.1333</td><td style=\"text-align: right;\">        1</td><td style=\"text-align: right;\">0.406269 </td><td style=\"text-align: right;\">0.593731 </td></tr>\n",
       "<tr><td style=\"text-align: right;\">         1</td><td style=\"text-align: right;\">       2</td><td>Mrs. Nicholas (Adele Achem) Nasser                </td><td>female</td><td style=\"text-align: right;\">   14</td><td style=\"text-align: right;\">                        1</td><td style=\"text-align: right;\">                        0</td><td style=\"text-align: right;\">30.0708</td><td style=\"text-align: right;\">        1</td><td style=\"text-align: right;\">0.128002 </td><td style=\"text-align: right;\">0.871998 </td></tr>\n",
       "</tbody>\n",
       "</table>"
      ]
     },
     "metadata": {},
     "output_type": "display_data"
    },
    {
     "data": {
      "text/plain": []
     },
     "execution_count": 83,
     "metadata": {},
     "output_type": "execute_result"
    }
   ],
   "source": [
    "prediction_frame = aml.leader.predict(df)\n",
    "full_data_with_predictions = df.cbind(prediction_frame)\n",
    "full_data_with_predictions"
   ]
  },
  {
   "cell_type": "markdown",
   "metadata": {},
   "source": [
    "## 3.0 - Make Predictions & Export Results\n",
    "\n",
    "The following process will walk you through uploading another dataset to score against your top model.\n",
    "\n",
    "**Note:** The new dataset must contain the same fields that were used to train your models in the prior steps.  The structure of the new dataset does not have to be consistent with the one used in prior steps (ex. there is no need to align columns or remove fields)."
   ]
  },
  {
   "cell_type": "markdown",
   "metadata": {},
   "source": [
    "## 3.1 - Upload Your Data (Excel and CSV files)\n",
    "\n",
    "Follow the same process you used in subsequent steps to upload the dataset you would like to apply against your trained model.  This is the dataset with \"unknown\" values which your trained models will attempt to predict."
   ]
  },
  {
   "cell_type": "code",
   "execution_count": 84,
   "metadata": {},
   "outputs": [
    {
     "data": {
      "application/vnd.jupyter.widget-view+json": {
       "model_id": "7aff4f83cca44a2d98ec5f25ec83bf8a",
       "version_major": 2,
       "version_minor": 0
      },
      "text/plain": [
       "interactive(children=(RadioButtons(description='File Location:', options=('local', 'url'), value='local'), Out…"
      ]
     },
     "metadata": {},
     "output_type": "display_data"
    }
   ],
   "source": [
    "upload_type = widgets.RadioButtons(\n",
    "    options=['local', 'url'],\n",
    "    description='File Location:',\n",
    "    disabled=False\n",
    ")\n",
    "\n",
    "upload_url = widgets.Text(\n",
    "#    value='https://gist.githubusercontent.com/bradblanch/4d9591ed64ad0e894668319529f51504/raw/1e7adf768d09724727a4e78bbef6968ed2fa695c/artificial_employee_records.csv',\n",
    "    value='https://web.stanford.edu/class/archive/cs/cs109/cs109.1166/stuff/titanic.csv',\n",
    "    placeholder='http://',\n",
    "    description='URL:',\n",
    "    disabled=False,\n",
    "    layout=Layout(width='80%')\n",
    ")\n",
    "upload_filename = widgets.Text(\n",
    "    value='artificial_employee_records.csv',\n",
    "#     value='artificial_employee_records.xlsx'\n",
    "    placeholder='Sample File.csv',\n",
    "    description='File Name:',\n",
    "    disabled=False,\n",
    "    layout=Layout(width='50%')\n",
    ")\n",
    "\n",
    "file_type = widgets.RadioButtons(\n",
    "    options=['csv', 'xlsx'],\n",
    "    description='File Type:',\n",
    "    disabled=False\n",
    ")\n",
    "\n",
    "tab_names = widgets.Text(\n",
    "    value='Sheet1, Sheet2, Sheet3, etc',\n",
    "    placeholder='ALL EMPLOYEES, PAST EMPLOYEES',\n",
    "    description='Tab(s):',\n",
    "    disabled=False,\n",
    "    layout=Layout(width='50%')\n",
    ")\n",
    "\n",
    "subfolder_name = widgets.Text(\n",
    "    value='source_data',\n",
    "    placeholder='Subfolder name',\n",
    "    description='Subfolder:',\n",
    "    disabled=False,\n",
    "    layout=Layout(width='50%')\n",
    ")\n",
    "\n",
    "subfolder = widgets.RadioButtons(\n",
    "    options=['no','yes'],\n",
    "    value='no',\n",
    "    description='Subfolder:',\n",
    "    disabled=False\n",
    ")\n",
    "\n",
    "skip_rows = widgets.IntSlider(\n",
    "    value=0,\n",
    "    min=0,\n",
    "    max=10,\n",
    "    step=1,\n",
    "    description='Skip Rows:',\n",
    "    disabled=False,\n",
    "    continuous_update=True,\n",
    "    orientation='horizontal',\n",
    "    readout=True,\n",
    "    readout_format='d'\n",
    ")\n",
    "\n",
    "delimiter = widgets.RadioButtons(\n",
    "    options=[',',';'],\n",
    "    value=',',\n",
    "    description='Delimiter:',\n",
    "    disabled=False\n",
    ")\n",
    "\n",
    "def text_field(x):\n",
    "    if(x=='xlsx'):\n",
    "        display(tab_names)\n",
    "        tab_names.on_submit(tab_names)\n",
    "        display(skip_rows)\n",
    "    else:\n",
    "        display(delimiter)\n",
    "        print('Tab Names: Not needed for csv files')\n",
    "\n",
    "def sub_folder(y):\n",
    "    if(y=='yes'):\n",
    "        display(subfolder_name)\n",
    "        subfolder_name.on_submit(subfolder_name)\n",
    "    else:\n",
    "        print('Using {} folder'.format(os.getcwd()))\n",
    "\n",
    "def file_location(z):\n",
    "    if(z=='local'):\n",
    "        display(upload_filename)\n",
    "        i = widgets.interactive(text_field, x=file_type)\n",
    "        display(i)\n",
    "        p = widgets.interactive(sub_folder, y=subfolder)\n",
    "        display(p)\n",
    "    else:\n",
    "        display(upload_url)\n",
    "\n",
    "q = widgets.interactive(file_location, z=upload_type)\n",
    "\n",
    "display(q)"
   ]
  },
  {
   "cell_type": "markdown",
   "metadata": {},
   "source": [
    "## Reminder: Do not rerun the cell above after applying your inputs\n",
    "\n",
    "### Click on and Run this cell to proceed\n",
    "The following code cell will attempt to ingest the data you've selected in the widgets above:\n",
    "\n",
    "**Note About xlsx Files** - Depending on the number of tabs and the size of the data on each tab, ingesting an xlsx file can take several minutes to execute.  If possible, it may be more efficient to break your Excel file into separate csv files which take only a fraction of a second to ingest."
   ]
  },
  {
   "cell_type": "code",
   "execution_count": 85,
   "metadata": {},
   "outputs": [],
   "source": [
    "new_data = {}\n",
    "\n",
    "if upload_type.value == 'url':\n",
    "    url_response = requests.request(\"GET\", upload_url.value)\n",
    "    new_data['url_data'] = pd.read_csv(io.BytesIO(url_response.content))\n",
    "else:\n",
    "    if file_type.value == 'csv':\n",
    "        tabs = None\n",
    "        skiprows = 0\n",
    "    else:\n",
    "        tabs = [x.strip() for x in tab_names.value.split(',')]\n",
    "        skiprows = skip_rows.value\n",
    "\n",
    "    if subfolder.value == 'yes':\n",
    "        subfolder = subfolder_name.value\n",
    "    else:\n",
    "        subfolder = None\n",
    "    new_data = compile_raw_data(upload_filename.value, tabs, subfolder, delimiter_char = delimiter.value, skip_rows = skiprows, file_ext = file_type.value)\n"
   ]
  },
  {
   "cell_type": "markdown",
   "metadata": {},
   "source": [
    "**Note:** If you see an AttributeError: 'NoneType' object has no attribute 'value' message above, simply rerun the last two code cells to reset the input parameters.\n",
    "\n",
    "The following code cell will print out the attributes associated with the files you've uploaded and alert you of any errors:"
   ]
  },
  {
   "cell_type": "code",
   "execution_count": 86,
   "metadata": {},
   "outputs": [
    {
     "name": "stdout",
     "output_type": "stream",
     "text": [
      "url_data table was ingested with 887 rows and 8 columns\n"
     ]
    }
   ],
   "source": [
    "for key, value in new_data.items():\n",
    "    try:\n",
    "        print('{} table was ingested with {} rows and {} columns'.format(key,value.shape[0],value.shape[1]))\n",
    "    except:\n",
    "        print('{} table failed to load'.format(key))"
   ]
  },
  {
   "cell_type": "markdown",
   "metadata": {},
   "source": [
    "## 3.2 - Select a Data Frame to be Scored\n",
    "\n",
    "The following menus will allow you to select the dataset you would like to score against your trained model.  This dataset should contain the fields you used to train the models in prior steps, but it does not have to consistent of the same structure (ex. there is no need to remove unused columns or align column locations).\n",
    "\n",
    "Select an available frame from the list below:"
   ]
  },
  {
   "cell_type": "code",
   "execution_count": 87,
   "metadata": {},
   "outputs": [
    {
     "data": {
      "application/vnd.jupyter.widget-view+json": {
       "model_id": "72e1bece343347c9ac525602733edcfe",
       "version_major": 2,
       "version_minor": 0
      },
      "text/plain": [
       "Select(description='Tables:', layout=Layout(width='50%'), options=('url_data',), value='url_data')"
      ]
     },
     "metadata": {},
     "output_type": "display_data"
    }
   ],
   "source": [
    "dict_keys = widgets.Select(\n",
    "    options=new_data.keys(),\n",
    "    description='Tables:',\n",
    "    disabled=False,\n",
    "    layout=Layout(width='50%')\n",
    ")\n",
    "\n",
    "display(dict_keys)"
   ]
  },
  {
   "cell_type": "markdown",
   "metadata": {},
   "source": [
    "## Reminder: Do not rerun the cell above after applying your inputs\n",
    "\n",
    "### Click on and Run this cell to proceed"
   ]
  },
  {
   "cell_type": "code",
   "execution_count": 88,
   "metadata": {},
   "outputs": [
    {
     "name": "stdout",
     "output_type": "stream",
     "text": [
      "Parse progress: |█████████████████████████████████████████████████████████| 100%\n"
     ]
    }
   ],
   "source": [
    "score_data = h2o.H2OFrame(new_data[dict_keys.value])"
   ]
  },
  {
   "cell_type": "markdown",
   "metadata": {},
   "source": [
    "## 3.3 - Predict the Target Value\n",
    "\n",
    "The code below will attempt to apply your trained model against this new dataset and predict the target value.  The result will be a new dataset with your original data combined with the predicted results."
   ]
  },
  {
   "cell_type": "code",
   "execution_count": 89,
   "metadata": {},
   "outputs": [
    {
     "name": "stdout",
     "output_type": "stream",
     "text": [
      "glm prediction progress: |████████████████████████████████████████████████| 100%\n"
     ]
    },
    {
     "data": {
      "text/html": [
       "<table>\n",
       "<thead>\n",
       "<tr><th style=\"text-align: right;\">  Survived</th><th style=\"text-align: right;\">  Pclass</th><th>Name                                              </th><th>Sex   </th><th style=\"text-align: right;\">  Age</th><th style=\"text-align: right;\">  Siblings/Spouses Aboard</th><th style=\"text-align: right;\">  Parents/Children Aboard</th><th style=\"text-align: right;\">   Fare</th><th style=\"text-align: right;\">  predict</th><th style=\"text-align: right;\">       p0</th><th style=\"text-align: right;\">       p1</th></tr>\n",
       "</thead>\n",
       "<tbody>\n",
       "<tr><td style=\"text-align: right;\">         0</td><td style=\"text-align: right;\">       3</td><td>Mr. Owen Harris Braund                            </td><td>male  </td><td style=\"text-align: right;\">   22</td><td style=\"text-align: right;\">                        1</td><td style=\"text-align: right;\">                        0</td><td style=\"text-align: right;\"> 7.25  </td><td style=\"text-align: right;\">        0</td><td style=\"text-align: right;\">0.905767 </td><td style=\"text-align: right;\">0.094233 </td></tr>\n",
       "<tr><td style=\"text-align: right;\">         1</td><td style=\"text-align: right;\">       1</td><td>Mrs. John Bradley (Florence Briggs Thayer) Cumings</td><td>female</td><td style=\"text-align: right;\">   38</td><td style=\"text-align: right;\">                        1</td><td style=\"text-align: right;\">                        0</td><td style=\"text-align: right;\">71.2833</td><td style=\"text-align: right;\">        1</td><td style=\"text-align: right;\">0.102079 </td><td style=\"text-align: right;\">0.897921 </td></tr>\n",
       "<tr><td style=\"text-align: right;\">         1</td><td style=\"text-align: right;\">       3</td><td>Miss. Laina Heikkinen                             </td><td>female</td><td style=\"text-align: right;\">   26</td><td style=\"text-align: right;\">                        0</td><td style=\"text-align: right;\">                        0</td><td style=\"text-align: right;\"> 7.925 </td><td style=\"text-align: right;\">        1</td><td style=\"text-align: right;\">0.35256  </td><td style=\"text-align: right;\">0.64744  </td></tr>\n",
       "<tr><td style=\"text-align: right;\">         1</td><td style=\"text-align: right;\">       1</td><td>Mrs. Jacques Heath (Lily May Peel) Futrelle       </td><td>female</td><td style=\"text-align: right;\">   35</td><td style=\"text-align: right;\">                        1</td><td style=\"text-align: right;\">                        0</td><td style=\"text-align: right;\">53.1   </td><td style=\"text-align: right;\">        1</td><td style=\"text-align: right;\">0.0957476</td><td style=\"text-align: right;\">0.904252 </td></tr>\n",
       "<tr><td style=\"text-align: right;\">         0</td><td style=\"text-align: right;\">       3</td><td>Mr. William Henry Allen                           </td><td>male  </td><td style=\"text-align: right;\">   35</td><td style=\"text-align: right;\">                        0</td><td style=\"text-align: right;\">                        0</td><td style=\"text-align: right;\"> 8.05  </td><td style=\"text-align: right;\">        0</td><td style=\"text-align: right;\">0.918241 </td><td style=\"text-align: right;\">0.0817586</td></tr>\n",
       "<tr><td style=\"text-align: right;\">         0</td><td style=\"text-align: right;\">       3</td><td>Mr. James Moran                                   </td><td>male  </td><td style=\"text-align: right;\">   27</td><td style=\"text-align: right;\">                        0</td><td style=\"text-align: right;\">                        0</td><td style=\"text-align: right;\"> 8.4583</td><td style=\"text-align: right;\">        0</td><td style=\"text-align: right;\">0.889531 </td><td style=\"text-align: right;\">0.110469 </td></tr>\n",
       "<tr><td style=\"text-align: right;\">         0</td><td style=\"text-align: right;\">       1</td><td>Mr. Timothy J McCarthy                            </td><td>male  </td><td style=\"text-align: right;\">   54</td><td style=\"text-align: right;\">                        0</td><td style=\"text-align: right;\">                        0</td><td style=\"text-align: right;\">51.8625</td><td style=\"text-align: right;\">        0</td><td style=\"text-align: right;\">0.693979 </td><td style=\"text-align: right;\">0.306021 </td></tr>\n",
       "<tr><td style=\"text-align: right;\">         0</td><td style=\"text-align: right;\">       3</td><td>Master. Gosta Leonard Palsson                     </td><td>male  </td><td style=\"text-align: right;\">    2</td><td style=\"text-align: right;\">                        3</td><td style=\"text-align: right;\">                        1</td><td style=\"text-align: right;\">21.075 </td><td style=\"text-align: right;\">        0</td><td style=\"text-align: right;\">0.904934 </td><td style=\"text-align: right;\">0.0950656</td></tr>\n",
       "<tr><td style=\"text-align: right;\">         1</td><td style=\"text-align: right;\">       3</td><td>Mrs. Oscar W (Elisabeth Vilhelmina Berg) Johnson  </td><td>female</td><td style=\"text-align: right;\">   27</td><td style=\"text-align: right;\">                        0</td><td style=\"text-align: right;\">                        2</td><td style=\"text-align: right;\">11.1333</td><td style=\"text-align: right;\">        1</td><td style=\"text-align: right;\">0.406269 </td><td style=\"text-align: right;\">0.593731 </td></tr>\n",
       "<tr><td style=\"text-align: right;\">         1</td><td style=\"text-align: right;\">       2</td><td>Mrs. Nicholas (Adele Achem) Nasser                </td><td>female</td><td style=\"text-align: right;\">   14</td><td style=\"text-align: right;\">                        1</td><td style=\"text-align: right;\">                        0</td><td style=\"text-align: right;\">30.0708</td><td style=\"text-align: right;\">        1</td><td style=\"text-align: right;\">0.128002 </td><td style=\"text-align: right;\">0.871998 </td></tr>\n",
       "</tbody>\n",
       "</table>"
      ]
     },
     "metadata": {},
     "output_type": "display_data"
    },
    {
     "data": {
      "text/plain": []
     },
     "execution_count": 89,
     "metadata": {},
     "output_type": "execute_result"
    }
   ],
   "source": [
    "prediction_frame = aml.leader.predict(score_data)\n",
    "full_data_with_predictions = score_data.cbind(prediction_frame)\n",
    "full_data_with_predictions"
   ]
  },
  {
   "cell_type": "code",
   "execution_count": 90,
   "metadata": {},
   "outputs": [],
   "source": [
    "new_data['scored_data'] = full_data_with_predictions.as_data_frame(use_pandas=True)"
   ]
  },
  {
   "cell_type": "markdown",
   "metadata": {},
   "source": [
    "## 3.4 - Export Dataframes for Offline Analysis\n",
    "\n",
    "The following code block will allow you to select and export dataframes to a local directory.  Use the inputs below to write the files to your current directory and to apply a timestamp to the filenames to prevent the risk of overwriting prior files saved to that folder."
   ]
  },
  {
   "cell_type": "code",
   "execution_count": 91,
   "metadata": {},
   "outputs": [],
   "source": [
    "def dict_to_csv(dict_name, dframe, subfolder, timestamp = False):\n",
    "    \n",
    "    # Inputs: a dictionary of dataframes; timestamp = True adds an ISO-formatted suffix to the filename\n",
    "    # Description: Writes dataframes contained within a dictionary to CSV (on your directory)\n",
    "\n",
    "    if subfolder:\n",
    "        file_path = subfolder+'/'\n",
    "        suffix = '_' + re.sub(r\"\\:+\", '', dt.datetime.now().isoformat()) + '.csv' if timestamp else '.csv'  \n",
    "        file_path = os.path.join(file_path, dframe + suffix)\n",
    "    else:\n",
    "        suffix = '_' + re.sub(r\"\\:+\", '', dt.datetime.now().isoformat()) + '.csv' if timestamp else '.csv'  \n",
    "        file_path = os.path.join(dframe + suffix)\n",
    "        \n",
    "    try:\n",
    "        dict_name[dframe].to_csv(file_path, sep=',', encoding='utf-8', index = False)\n",
    "        print('Successfully wrote {} with {} rows and {} columns to the directory'.format(dframe+suffix, new_data[dframe].shape[0], new_data[dframe].shape[1]))\n",
    "    except Exception as e:\n",
    "        print('Writing the data to the directory failed')\n",
    "        "
   ]
  },
  {
   "cell_type": "markdown",
   "metadata": {},
   "source": [
    "Select one or more available dataframes, then select whether or not you'd like the files saved to the current working directory or a subfolder in the directory.  Lastly, if you would like a timestamp to be added to your exported filenames, select Timestamp = 'yes' to prevent overwriting prior files saved to the folder.\n",
    "\n",
    "## The scored_data table in the widget below contains both the raw data you uploaded along with the predicted values resulting from your model"
   ]
  },
  {
   "cell_type": "code",
   "execution_count": 92,
   "metadata": {},
   "outputs": [
    {
     "data": {
      "application/vnd.jupyter.widget-view+json": {
       "model_id": "fff1692a9ab34151931b05bbec8b3a48",
       "version_major": 2,
       "version_minor": 0
      },
      "text/plain": [
       "SelectMultiple(description='Tables:', layout=Layout(width='50%'), options=('url_data', 'scored_data'), value=(…"
      ]
     },
     "metadata": {},
     "output_type": "display_data"
    },
    {
     "data": {
      "application/vnd.jupyter.widget-view+json": {
       "model_id": "2241f229309f4fd9b8581909e2343866",
       "version_major": 2,
       "version_minor": 0
      },
      "text/plain": [
       "interactive(children=(RadioButtons(description='Subfolder:', options=('no', 'yes'), value='no'), Output()), _d…"
      ]
     },
     "metadata": {},
     "output_type": "display_data"
    },
    {
     "data": {
      "application/vnd.jupyter.widget-view+json": {
       "model_id": "119f69a44f6e439c84fe5d47930e462b",
       "version_major": 2,
       "version_minor": 0
      },
      "text/plain": [
       "RadioButtons(description='Timestamp:', index=1, options=('no', 'yes'), value='yes')"
      ]
     },
     "metadata": {},
     "output_type": "display_data"
    }
   ],
   "source": [
    "dict_keys = widgets.SelectMultiple(\n",
    "    options=new_data.keys(),\n",
    "    description='Tables:',\n",
    "    disabled=False,\n",
    "    layout=Layout(width='50%')\n",
    ")\n",
    "\n",
    "display(dict_keys)\n",
    "\n",
    "subfolder_option = widgets.RadioButtons(\n",
    "    options=['no','yes'],\n",
    "    value='no',\n",
    "    description='Subfolder:',\n",
    "    disabled=False\n",
    ")\n",
    "\n",
    "timestamp_option = widgets.RadioButtons(\n",
    "    options=['no','yes'],\n",
    "    value='yes',\n",
    "    description='Timestamp:',\n",
    "    disabled=False\n",
    ")\n",
    "\n",
    "subfolder_text = widgets.Text(\n",
    "    value='output',\n",
    "    placeholder='Subfolder name',\n",
    "    description='Subfolder:',\n",
    "    disabled=False,\n",
    "    layout=Layout(width='50%')\n",
    ")\n",
    "\n",
    "def sub_folder_edit(y):\n",
    "    if(y=='yes'):\n",
    "        display(subfolder_text)\n",
    "        subfolder_text.on_submit(subfolder_text)\n",
    "        print('Your file(s) will be written to the subfolder in {}'.format(os.getcwd()+os.sep+subfolder_text.value))\n",
    "    else:\n",
    "        print('Using {} folder'.format(os.getcwd()))\n",
    "        \n",
    "y = widgets.interactive(sub_folder_edit, y=subfolder_option)\n",
    "\n",
    "display(y, timestamp_option)"
   ]
  },
  {
   "cell_type": "markdown",
   "metadata": {},
   "source": [
    "## Reminder: Do not rerun the cell above after applying your inputs\n",
    "\n",
    "### Click on and Run this cell to proceed\n",
    "Execute the code cell below to export the csv files to your chosen directory.\n",
    "\n",
    "**NOTE:** If you have chosen to write your files to a \"subfolder\" - ensure that the folder can be found in your working directory.  The function below will \"not create a subfolder\" in your directory."
   ]
  },
  {
   "cell_type": "code",
   "execution_count": 93,
   "metadata": {},
   "outputs": [
    {
     "name": "stdout",
     "output_type": "stream",
     "text": [
      "Successfully wrote scored_data_2019-09-23T152540.260990.csv with 887 rows and 11 columns to the directory\n"
     ]
    }
   ],
   "source": [
    "if subfolder_option.value == 'yes':\n",
    "    subfolder = subfolder_text.value\n",
    "else:\n",
    "    subfolder = None\n",
    "    \n",
    "dframe_list = []\n",
    "for df in dict_keys.value:\n",
    "    dframe_list.append(df)\n",
    "\n",
    "if timestamp_option.value == 'yes':\n",
    "    timestamp_boolean = True\n",
    "else:\n",
    "    timestamp_boolean = False\n",
    " \n",
    "for df in dframe_list:\n",
    "    dict_to_csv(new_data, df, subfolder, timestamp = timestamp_boolean)"
   ]
  },
  {
   "cell_type": "markdown",
   "metadata": {},
   "source": [
    "## Extract & Save Your Model\n",
    "\n",
    "Executing the cell below will save a copy of your h2o model:"
   ]
  },
  {
   "cell_type": "code",
   "execution_count": 94,
   "metadata": {},
   "outputs": [
    {
     "name": "stdout",
     "output_type": "stream",
     "text": [
      "The model has been successfully saved in the following directory: /Users/bblanchard006/Desktop/digital_lab/autoML/GLM_grid_1_AutoML_20190923_102817_model_1\n",
      "H2O session _sid_950e closed.\n"
     ]
    }
   ],
   "source": [
    "model_path = h2o.save_model(model=aml.leader, force=True)\n",
    "print('The model has been successfully saved in the following directory: {}'.format(model_path))\n",
    "h2o.cluster().shutdown()"
   ]
  },
  {
   "cell_type": "markdown",
   "metadata": {},
   "source": [
    "#### If you need any support,  please feel free to contact me at bradley.a.blanchard@pwc.com"
   ]
  }
 ],
 "metadata": {
  "kernelspec": {
   "display_name": "Python 3",
   "language": "python",
   "name": "python3"
  },
  "language_info": {
   "codemirror_mode": {
    "name": "ipython",
    "version": 3
   },
   "file_extension": ".py",
   "mimetype": "text/x-python",
   "name": "python",
   "nbconvert_exporter": "python",
   "pygments_lexer": "ipython3",
   "version": "3.6.2"
  }
 },
 "nbformat": 4,
 "nbformat_minor": 2
}
